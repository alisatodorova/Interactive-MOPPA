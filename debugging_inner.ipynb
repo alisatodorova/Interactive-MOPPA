{
 "cells": [
  {
   "cell_type": "code",
   "execution_count": 59,
   "metadata": {
    "collapsed": true
   },
   "outputs": [],
   "source": [
    "# Import libraries\n",
    "import numpy as np\n",
    "import geopandas as gpd\n",
    "import momepy\n",
    "import networkx as nx\n",
    "# import pandas as pd\n",
    "# import shapely\n",
    "# import shapely.geometry as sg\n",
    "# import matplotlib\n",
    "# import matplotlib.pyplot as plt\n",
    "# %matplotlib inline\n",
    "\n",
    "from lmzintgraf_gp_pref_elicit import dataset, gaussian_process, acquisition_function\n",
    "from lmzintgraf_gp_pref_elicit.gp_utilities import utils_ccs as utils_ccs\n",
    "from lmzintgraf_gp_pref_elicit.gp_utilities import utils_data as utils_data\n",
    "from lmzintgraf_gp_pref_elicit.gp_utilities import utils_experiment as utils_experiment\n",
    "from lmzintgraf_gp_pref_elicit.gp_utilities import utils_parameters as utils_parameters\n",
    "from lmzintgraf_gp_pref_elicit.gp_utilities import utils_user as utils_user"
   ]
  },
  {
   "cell_type": "code",
   "execution_count": 60,
   "outputs": [],
   "source": [
    "map = gpd.read_file(\"Sidewalk_width_crossings_small.geojson\") #Read in the map with radius 250m and ~1000 nodes\n",
    "\n",
    "# Objectives\n",
    "objective1 = map['length']\n",
    "objective2 = map['crossing']\n",
    "objective3 = map['obstacle_free_width']\n",
    "\n",
    "objectives = ('length', 'crossings')"
   ],
   "metadata": {
    "collapsed": false
   }
  },
  {
   "cell_type": "code",
   "execution_count": 61,
   "outputs": [
    {
     "name": "stderr",
     "output_type": "stream",
     "text": [
      "/usr/local/anaconda3/envs/test/lib/python3.10/site-packages/momepy/utils.py:252: UserWarning: Geometry is in a geographic CRS. Results from 'length' are likely incorrect. Use 'GeoSeries.to_crs()' to re-project geometries to a projected CRS before this operation.\n",
      "\n",
      "  gdf_network[length] = gdf_network.geometry.length\n"
     ]
    }
   ],
   "source": [
    "# Create a NetworkX graph from the map\n",
    "G = momepy.gdf_to_nx(map, approach='primal')\n",
    "nodes = G.nodes\n",
    "edges = G.edges"
   ],
   "metadata": {
    "collapsed": false
   }
  },
  {
   "cell_type": "code",
   "execution_count": 62,
   "outputs": [],
   "source": [
    "#Pick random ones or pick manually that make sense - to experiment\n",
    "S = (120548.6120283842, 486088.19577846595)\n",
    "T = (120798.0893320718, 486128.7633437495)"
   ],
   "metadata": {
    "collapsed": false
   }
  },
  {
   "cell_type": "code",
   "execution_count": 74,
   "outputs": [],
   "source": [
    "# Single-objective value iteration: v_n \\gets {\\arg\\min}_{n' \\in N_G(n)} c(n,n')+v_{n'}\n",
    "\n",
    "def single_vi(graph, max_iter=1000, gamma=1.0, threshold=1e-8):\n",
    "    # For smaller epsilon values, we need higher number of iterations for convergence,\n",
    "    # but this way, we get more accurate results.\n",
    "\n",
    "    num_nodes = len(graph)\n",
    "\n",
    "    v_n = np.zeros(num_nodes) #Initialise each node to 0\n",
    "\n",
    "    for i in range(max_iter): #or until convergence\n",
    "        v_n_copy = np.copy(v_n)\n",
    "\n",
    "        for n in graph:\n",
    "            if not graph[n]: #We've reached terminal state\n",
    "                continue\n",
    "            max_value = -np.inf\n",
    "\n",
    "            for action in graph[n]: #action=going from n to n′\n",
    "                n_next = action\n",
    "                cost = graph[n][action]\n",
    "                result = cost + gamma * v_n_copy[n_next]\n",
    "                max_value = max(max_value, result)\n",
    "\n",
    "            v_n[n] = max_value\n",
    "\n",
    "        if np.max(np.abs(v_n - v_n_copy)) < threshold: #Check for convergence\n",
    "            break\n",
    "\n",
    "    return v_n"
   ],
   "metadata": {
    "collapsed": false
   }
  },
  {
   "cell_type": "code",
   "execution_count": 76,
   "outputs": [
    {
     "name": "stdout",
     "output_type": "stream",
     "text": [
      "[12.  9.  8.  7.  0.]\n",
      "V(0) = 12.0\n",
      "V(1) = 9.0\n",
      "V(2) = 8.0\n",
      "V(3) = 7.0\n",
      "V(4) = 0.0\n"
     ]
    }
   ],
   "source": [
    "# GG = nx.Graph()\n",
    "# GG.add_nodes_from([1,2,3,4,5])\n",
    "# GG.add_edges_from([(1,2), (1,3), (2,4), (4,5), (4,3), (3,5)])\n",
    "# GG[1][2]['cost'] = 3\n",
    "# GG[1][3]['cost'] = 1\n",
    "# GG[2][4]['cost'] = 2\n",
    "# GG[3][5]['cost'] = 7\n",
    "# GG[4][3]['cost'] = 1\n",
    "# GG[3][5]['cost'] = 4\n",
    "\n",
    "single_graph = {\n",
    "    0: {1: 3, 2: 1},\n",
    "    1: {3: 2, 2: 1},\n",
    "    2: {4: 4, 3: 1},\n",
    "    3: {4: 7},\n",
    "    4: {}\n",
    "}\n",
    "# Compute the optimal value vector\n",
    "single_vi_results = single_vi(single_graph)\n",
    "print(single_vi_results )\n",
    "for state, value in enumerate(single_vi_results):\n",
    "    print(f\"V({state}) = {value}\")"
   ],
   "metadata": {
    "collapsed": false
   }
  },
  {
   "cell_type": "code",
   "execution_count": 65,
   "outputs": [],
   "source": [
    "# Depth-first search"
   ],
   "metadata": {
    "collapsed": false
   }
  },
  {
   "cell_type": "code",
   "execution_count": 69,
   "outputs": [],
   "source": [
    "# Multi-objective value iteration\n",
    "\n",
    "# multi_graph = {\n",
    "#     0: {1: [3,1], 2: [1,3]},\n",
    "#     1: {3: [2,2], 2: [1,0]},\n",
    "#     2: {4: [4,5], 3: [1,1]},\n",
    "#     3: {4: [7,0]},\n",
    "#     4: {}\n",
    "# }\n",
    "# # Compute the optimal value vector\n",
    "# optimal_value = single_vi(multi_graph)\n",
    "# print(optimal_value)\n",
    "# for state, value in enumerate(optimal_value):\n",
    "#     print(f\"V({state}) = {value}\")\n"
   ],
   "metadata": {
    "collapsed": false
   }
  },
  {
   "cell_type": "code",
   "execution_count": null,
   "outputs": [],
   "source": [],
   "metadata": {
    "collapsed": false
   }
  }
 ],
 "metadata": {
  "kernelspec": {
   "display_name": "Python 3",
   "language": "python",
   "name": "python3"
  },
  "language_info": {
   "codemirror_mode": {
    "name": "ipython",
    "version": 2
   },
   "file_extension": ".py",
   "mimetype": "text/x-python",
   "name": "python",
   "nbconvert_exporter": "python",
   "pygments_lexer": "ipython2",
   "version": "2.7.6"
  }
 },
 "nbformat": 4,
 "nbformat_minor": 0
}
