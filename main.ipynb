{
 "cells": [
  {
   "cell_type": "markdown",
   "source": [
    "## \"Interactive multi-objective path planning algorithm for accessible sidewalks\"\n",
    "### Bachelor Thesis Code by Alisa Todorova"
   ],
   "metadata": {
    "collapsed": false
   }
  },
  {
   "cell_type": "code",
   "execution_count": null,
   "outputs": [],
   "source": [
    "# Import libraries\n",
    "import pandas as pd\n",
    "import numpy as np\n",
    "\n",
    "import geopandas as gpd\n",
    "import momepy\n",
    "import networkx as nx\n",
    "import shapely\n",
    "import shapely.geometry as sg\n",
    "\n",
    "import matplotlib\n",
    "import matplotlib.pyplot as plt\n",
    "%matplotlib inline"
   ],
   "metadata": {
    "collapsed": false
   }
  },
  {
   "cell_type": "code",
   "execution_count": null,
   "outputs": [],
   "source": [
    "map = gpd.read_file(\"Sidewalk_width_crossings_small.geojson\") #Read in the map\n",
    "\n",
    "# Objectives\n",
    "objective1 = map['length']\n",
    "objective2 = map['crossing']\n",
    "objective3 = map['obstacle_free_width']\n",
    "objectives = [objective1, objective2, objective3]\n",
    "\n",
    "S = map['start_coord'] #Starting node\n",
    "T = map['end_coord'] #Terminating (ending) node\n"
   ],
   "metadata": {
    "collapsed": false
   }
  },
  {
   "cell_type": "code",
   "execution_count": null,
   "outputs": [],
   "source": [
    "# Create a NetworkX graph from the map\n",
    "G = momepy.gdf_to_nx(map, approach='primal')\n",
    "nodes = G.nodes\n",
    "edges = G.edges\n",
    "\n",
    "# Display the graph\n",
    "nx.draw(G, with_labels=False, node_color='blue', node_size=10, edge_color='black')\n",
    "plt.axis('off')\n",
    "plt.show()"
   ],
   "metadata": {
    "collapsed": false
   }
  },
  {
   "cell_type": "markdown",
   "source": [
    "## Blackboxes\n",
    "The Gaussian process and Acquisition function are used as blackboxes from \"Ordered Preference Elicitation Strategies for Supporting Multi-Objective Decision Making\" by Luisa M. Zintgraf, Diederik M. Roijers, Sjoerd Linders, Catholijn M. Jonker, and Ann Nowé, which was published at AAMAS (Autonomous Agents and Multi-Agent Systems), Stockholm 2018. https://github.com/lmzintgraf/gp_pref_elicit\n"
   ],
   "metadata": {
    "collapsed": false
   }
  },
  {
   "cell_type": "code",
   "execution_count": null,
   "outputs": [],
   "source": [
    "import gaussian_process\n",
    "import acquisition_function\n",
    "\n",
    "gp = gaussian_process.GPPairwise(num_objectives=2)\n",
    "af = acquisition_function.DiscreteAcquirer()\n",
    "\n",
    "u = gp.initialise_gaussian_process() #Initialise the Gaussian process\n",
    "u_hat = af.initialise_acquirer() #Initialise acquisition function"
   ],
   "metadata": {
    "collapsed": false
   }
  },
  {
   "cell_type": "markdown",
   "source": [
    "## Outer-loop: Selecting the target direction"
   ],
   "metadata": {
    "collapsed": false
   }
  },
  {
   "cell_type": "code",
   "execution_count": null,
   "outputs": [],
   "source": [
    "P = set() #Pareto set\n",
    "\n",
    "# Path initialisation\n",
    "for i in objectives:\n",
    "    p = nx.shortest_path(G, source = i, method = 'dijkstra')\n",
    "    P = P.add(p)\n"
   ],
   "metadata": {
    "collapsed": false
   }
  },
  {
   "cell_type": "code",
   "execution_count": null,
   "outputs": [],
   "source": [],
   "metadata": {
    "collapsed": false
   }
  },
  {
   "cell_type": "markdown",
   "source": [
    "## Inner-loop: Finding a new path from the target region"
   ],
   "metadata": {
    "collapsed": false
   }
  },
  {
   "cell_type": "code",
   "execution_count": null,
   "outputs": [],
   "source": [],
   "metadata": {
    "collapsed": false
   }
  }
 ],
 "metadata": {
  "kernelspec": {
   "display_name": "Python 3",
   "language": "python",
   "name": "python3"
  },
  "language_info": {
   "codemirror_mode": {
    "name": "ipython",
    "version": 2
   },
   "file_extension": ".py",
   "mimetype": "text/x-python",
   "name": "python",
   "nbconvert_exporter": "python",
   "pygments_lexer": "ipython2",
   "version": "2.7.6"
  }
 },
 "nbformat": 4,
 "nbformat_minor": 0
}
