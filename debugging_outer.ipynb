{
 "cells": [
  {
   "cell_type": "code",
   "execution_count": 1,
   "outputs": [],
   "source": [
    "# Import libraries\n",
    "import numpy as np\n",
    "import geopandas as gpd\n",
    "import momepy\n",
    "import networkx as nx\n",
    "# import pandas as pd\n",
    "# import shapely\n",
    "# import shapely.geometry as sg\n",
    "# import matplotlib\n",
    "import matplotlib.pyplot as plt\n",
    "%matplotlib inline\n",
    "\n",
    "from lmzintgraf_gp_pref_elicit import dataset, gaussian_process, acquisition_function\n",
    "from lmzintgraf_gp_pref_elicit.gp_utilities import utils_ccs as utils_ccs\n",
    "from lmzintgraf_gp_pref_elicit.gp_utilities import utils_data as utils_data\n",
    "from lmzintgraf_gp_pref_elicit.gp_utilities import utils_experiment as utils_experiment\n",
    "from lmzintgraf_gp_pref_elicit.gp_utilities import utils_parameters as utils_parameters\n",
    "from lmzintgraf_gp_pref_elicit.gp_utilities import utils_user as utils_user"
   ],
   "metadata": {
    "collapsed": false
   }
  },
  {
   "cell_type": "code",
   "execution_count": 2,
   "outputs": [],
   "source": [
    "map = gpd.read_file(\"Sidewalk_width_crossings_smaller.geojson\") #~180 nodes\n",
    "\n",
    "# Objectives\n",
    "objective1 = map['length']\n",
    "objective2 = map['crossing']\n",
    "objective3 = map['obstacle_free_width']\n",
    "\n",
    "objectives = ('length', 'crossing')"
   ],
   "metadata": {
    "collapsed": false
   }
  },
  {
   "cell_type": "code",
   "execution_count": 3,
   "outputs": [
    {
     "name": "stderr",
     "output_type": "stream",
     "text": [
      "/usr/local/anaconda3/envs/test/lib/python3.10/site-packages/momepy/utils.py:252: UserWarning: Geometry is in a geographic CRS. Results from 'length' are likely incorrect. Use 'GeoSeries.to_crs()' to re-project geometries to a projected CRS before this operation.\n",
      "\n",
      "  gdf_network[length] = gdf_network.geometry.length\n"
     ]
    }
   ],
   "source": [
    "# Create a NetworkX graph from the map\n",
    "G = momepy.gdf_to_nx(map, approach='primal')\n",
    "nodes = G.nodes\n",
    "# print(len(nodes))\n",
    "edges = G.edges\n",
    "# print(len(max(nx.connected_components(G), key=len)))"
   ],
   "metadata": {
    "collapsed": false
   }
  },
  {
   "cell_type": "code",
   "execution_count": null,
   "outputs": [],
   "source": [
    "#Show the map as nodes and edges\n",
    "\n",
    "from shapely.geometry import Point\n",
    "# start_node = gpd.GeoDataFrame({'geometry': [Point(122245.37633330293,\n",
    "#                                                   486126.8581684635)]})\n",
    "# end_node = gpd.GeoDataFrame({'geometry': [Point(122247.04588395767,\n",
    "#                                                   486167.91526857053)]})\n",
    "# fig, ax = plt.subplots(figsize=(14,14), dpi=600)\n",
    "# # All nodes and edges\n",
    "# nx.draw(G, {n:[n[0], n[1]] for n in list(G.nodes)}, ax=ax, node_size=3)\n",
    "# # Start & end node\n",
    "# start_node.plot(ax=ax, color='red')\n",
    "# end_node.plot(ax=ax, color='purple')\n",
    "# plt.show()"
   ],
   "metadata": {
    "collapsed": false
   }
  },
  {
   "cell_type": "code",
   "execution_count": 8,
   "outputs": [
    {
     "name": "stdout",
     "output_type": "stream",
     "text": [
      "[(122245.37633330293, 486126.8581684635), (122254.86602688645, 486129.80052856216), (122264.35426393585, 486132.74411788705), (122273.84081337851, 486135.69101398275), (122283.19823912054, 486138.9678026403), (122284.1816391946, 486139.19731384714), (122287.28805009159, 486137.97386694513), (122291.40829399273, 486140.643590483), (122289.53424561612, 486128.31132216856), (122297.7854183222, 486139.47700177913), (122301.24255780602, 486130.1701925009), (122304.47424118801, 486120.76208520425), (122256.54763350038, 486170.91398380254), (122247.04588395767, 486167.91526857053), (122237.50744934028, 486164.9669819529), (122227.969152229, 486162.0189639581), (122218.43104837791, 486159.0709819753), (122289.24584929895, 486173.25169782597), (122282.43320919861, 486172.4559260068), (122296.3898333376, 486151.2069021054), (122293.35529070727, 486160.70100324217), (122290.30564961619, 486170.1963395323), (122290.12705889999, 486148.4950394649), (122234.28219718198, 486227.4182083386), (122243.05065852, 486228.52578009496), (122246.10058319086, 486224.512771215), (122236.58384622759, 486219.89598619024), (122237.33719104923, 486218.1490745187), (122240.63772588043, 486209.219493507), (122237.27512659726, 486217.9780131023), (122246.06735691504, 486221.7178507252), (122246.77932030056, 486223.5791244763), (122253.90998542316, 486214.8625188222), (122244.55105635537, 486213.2013620622), (122240.70442383944, 486208.931103607), (122241.65362377139, 486207.0323247046), (122245.85692514428, 486201.72990368557), (122254.17297428084, 486206.4873344737), (122256.36390748693, 486206.6132239499), (122252.64036225356, 486195.21839299647), (122259.39867920603, 486198.8810344641), (122253.09793657108, 486219.18429932056), (122252.96223561326, 486263.2475162547), (122258.88243648612, 486260.58853595395), (122254.26477155345, 486215.7695028797), (122271.878266905, 486221.2167929504), (122262.38569380266, 486218.13414513733), (122262.21512810217, 486251.1722638347), (122265.53626116004, 486241.7517373523), (122268.87098268993, 486232.3355880248), (122270.35144282578, 486227.55055625446), (122261.71060780887, 486197.5847064775), (122274.00277185065, 486217.2508821529), (122284.2947638598, 486179.51092348614), (122274.79892041316, 486176.5613462925), (122286.01308887315, 486183.8814735307), (122282.69556966702, 486193.2948693236), (122279.36739295325, 486202.70485648955), (122276.034562429, 486212.11332275654), (122183.61164713331, 486242.95999038906), (122193.16766388352, 486245.76383735583), (122202.72350389507, 486248.5676793542), (122212.27910424495, 486251.3717500277), (122221.83465940144, 486254.17523497797), (122231.39010150469, 486256.97849734355), (122240.81427089236, 486296.6480719353), (122245.6907597802, 486294.2355461444), (122249.06290819198, 486284.8365739883), (122252.43503352853, 486275.4374815096), (122253.33804506433, 486272.9429263978), (122278.88553626387, 486307.3430291897), (122275.88338278513, 486303.1505475647), (122279.27332236386, 486293.76013232773), (122282.66333889941, 486284.36990515806), (122283.81709680714, 486281.1675979253), (122185.95682319514, 486287.39728682063), (122195.50476903876, 486289.94288128265), (122203.61682590132, 486292.8803661781), (122205.34587950935, 486293.38939111), (122211.69385900961, 486295.22894434957), (122213.41908423678, 486295.7364292425), (122231.85627638518, 486301.11851707334), (122233.30204329848, 486301.54862540483), (122241.02408368223, 486306.1140538679), (122233.55573803608, 486301.45264794154), (122239.91340844773, 486315.6286880791), (122236.67989176323, 486325.04672781145), (122234.86263663732, 486330.08450985735), (122242.23069003483, 486307.1936986899), (122265.19441620316, 486334.6052579423), (122268.46880316203, 486325.1724296482), (122270.70720161816, 486319.9644684936), (122271.04267731123, 486318.05563668464), (122274.08982146572, 486315.9676416018), (122283.14526812917, 486316.14518803015), (122292.69765807214, 486319.0473460633), (122302.24694795707, 486321.96450947504), (122333.58719518047, 486150.8910123211), (122335.79904157936, 486154.2277290541), (122336.58735750131, 486141.3851623665), (122339.76703235215, 486131.9282416758), (122342.95507920362, 486122.4743716316), (122391.42856314938, 486172.1393164755), (122381.92135928248, 486169.1971961062), (122372.41432083352, 486166.2551437294), (122362.90961170816, 486163.3036081122), (122353.45570550693, 486160.116458101), (122350.71986544458, 486157.1547331948), (122359.38942557234, 486134.9756792319), (122356.08009813212, 486144.3890517294), (122352.76552177098, 486153.79967663315), (122328.7127865793, 486160.19348477497), (122324.68334361241, 486169.2581765358), (122320.97320132754, 486178.5199137332), (122319.70610252809, 486181.6875618371), (122332.49987764945, 486160.7773385103), (122335.20264074739, 486161.698187862), (122289.56890474173, 486267.8341959835), (122289.88490154118, 486269.63208684843), (122312.999838772, 486201.0746268706), (122309.41870472197, 486210.39752307127), (122305.90796557168, 486219.74544990633), (122302.50516522641, 486229.13200873986), (122299.20022373537, 486238.5538360078), (122295.99837830248, 486248.0130868562), (122292.87489444291, 486257.5008015807), (122289.82705001402, 486267.01353056065), (122311.23846288648, 486280.24545575934), (122301.67926126342, 486277.6721291147), (122292.19266179654, 486274.7757749291), (122320.81805325512, 486283.07699492597), (122326.20272577256, 486284.0138775307), (122318.78284010534, 486193.54636295186), (122319.10281752524, 486192.7414354938), (122324.31525775364, 486192.4011636856), (122326.69779998201, 486193.1386436282), (122327.09159296686, 486283.99099321413), (122328.5163996787, 486193.7179157731), (122328.30352008127, 486285.2007256597), (122328.12276288486, 486282.3526402448), (122331.26443074355, 486271.68618467095), (122328.45548401472, 486281.25965863286), (122337.69003522514, 486288.33773258486), (122347.23121349237, 486291.16518716794), (122356.77160062971, 486293.99208821164), (122366.3166085303, 486296.8055091105), (122375.86778563978, 486298.28343021375), (122377.76421033009, 486295.0128435025), (122330.66110201828, 486194.3885570105), (122333.25023035359, 486195.2100701645), (122331.32742937407, 486269.30242298247), (122331.81171128778, 486268.5695216759), (122334.2366953187, 486262.0953360152), (122334.3941803295, 486195.5515826087), (122343.90266904321, 486264.3749793877), (122352.11593694992, 486265.8336134335), (122336.28043206, 486196.14528376114), (122337.83302823194, 486196.63924910186), (122388.82917386676, 486212.02989340306), (122379.29429357142, 486209.1139050348), (122369.7575080021, 486206.20109186374), (122360.21918318029, 486203.29054280615), (122350.67047271895, 486200.4034722486), (122341.11930931515, 486197.5196393475), (122360.14942001746, 486260.05629169056), (122367.86790377575, 486254.4262538494), (122376.72223655196, 486256.9885779782), (122379.85033888932, 486257.8387814963), (122377.81270562067, 486294.8543616967), (122380.44329276506, 486283.2723370011), (122377.53330029358, 486292.7824943374), (122380.20260578195, 486257.9145607495), (122386.34472820169, 486259.8248949842), (122381.26079255168, 486280.2605662771), (122383.28754902729, 486273.67004565743), (122384.20250442973, 486270.65737816785), (122384.49209923869, 486269.7176287708), (122329.83937038366, 486330.2999373479), (122320.31466476223, 486327.5294561802)]\n"
     ]
    }
   ],
   "source": [
    "print(nodes)"
   ],
   "metadata": {
    "collapsed": false
   }
  },
  {
   "cell_type": "code",
   "execution_count": 21,
   "outputs": [],
   "source": [
    "#Pick random ones or pick manually that make sense - to experiment\n",
    "#Smaller map:\n",
    "S = (122245.37633330293, 486126.8581684635)\n",
    "T = (122384.20250442973, 486270.65737816785) #AxisError\n",
    "# T = (122320.31466476223, 486327.5294561802) #t=cost\n",
    "# T = (122246.77932030056, 486223.5791244763) #t != cost"
   ],
   "metadata": {
    "collapsed": false
   }
  },
  {
   "cell_type": "code",
   "execution_count": 22,
   "outputs": [
    {
     "name": "stdout",
     "output_type": "stream",
     "text": [
      "Watch out - trying to add comparison between same datapoints!\n"
     ]
    },
    {
     "name": "stderr",
     "output_type": "stream",
     "text": [
      "/Users/alisatodorova/Desktop/Thesis/Interactive-MOPPA/lmzintgraf_gp_pref_elicit/gp_utilities/utils_user.py:254: RuntimeWarning: overflow encountered in exp\n",
      "  y += 1. / (1 + np.exp(- x * (a-i) + (b+i)))\n"
     ]
    },
    {
     "ename": "AxisError",
     "evalue": "axis 1 is out of bounds for array of dimension 1",
     "output_type": "error",
     "traceback": [
      "\u001B[0;31m---------------------------------------------------------------------------\u001B[0m",
      "\u001B[0;31mAxisError\u001B[0m                                 Traceback (most recent call last)",
      "Cell \u001B[0;32mIn[22], line 2\u001B[0m\n\u001B[1;32m      1\u001B[0m \u001B[38;5;28;01mimport\u001B[39;00m \u001B[38;5;21;01mouter_loop\u001B[39;00m\n\u001B[0;32m----> 2\u001B[0m t, p_star, val_vector_p_star \u001B[38;5;241m=\u001B[39m \u001B[43mouter_loop\u001B[49m\u001B[38;5;241;43m.\u001B[39;49m\u001B[43mouter\u001B[49m\u001B[43m(\u001B[49m\u001B[43mG\u001B[49m\u001B[43m,\u001B[49m\u001B[43m \u001B[49m\u001B[43mS\u001B[49m\u001B[43m,\u001B[49m\u001B[43m \u001B[49m\u001B[43mT\u001B[49m\u001B[43m,\u001B[49m\u001B[43m \u001B[49m\u001B[43mobjectives\u001B[49m\u001B[43m)\u001B[49m\n\u001B[1;32m      3\u001B[0m \u001B[38;5;28mprint\u001B[39m(\u001B[38;5;124mf\u001B[39m\u001B[38;5;124m\"\u001B[39m\u001B[38;5;124mTarget \u001B[39m\u001B[38;5;132;01m{\u001B[39;00mt\u001B[38;5;132;01m}\u001B[39;00m\u001B[38;5;124m; Path \u001B[39m\u001B[38;5;132;01m{\u001B[39;00mp_star\u001B[38;5;132;01m}\u001B[39;00m\u001B[38;5;124m with cost \u001B[39m\u001B[38;5;132;01m{\u001B[39;00mval_vector_p_star\u001B[38;5;132;01m}\u001B[39;00m\u001B[38;5;124m\"\u001B[39m)\n",
      "File \u001B[0;32m~/Desktop/Thesis/Interactive-MOPPA/outer_loop.py:63\u001B[0m, in \u001B[0;36mouter\u001B[0;34m(G, S, T, d)\u001B[0m\n\u001B[1;32m     61\u001B[0m comparisons \u001B[38;5;241m=\u001B[39m dataset\u001B[38;5;241m.\u001B[39mDatasetPairwise(num_objectives\u001B[38;5;241m=\u001B[39m\u001B[38;5;241m2\u001B[39m)\n\u001B[1;32m     62\u001B[0m comparisons\u001B[38;5;241m.\u001B[39madd_single_comparison(val_p[np\u001B[38;5;241m.\u001B[39margmax(ground_utility)], val_p[np\u001B[38;5;241m.\u001B[39margmin(ground_utility)])  \u001B[38;5;66;03m# This is user ranking of their preferences\u001B[39;00m\n\u001B[0;32m---> 63\u001B[0m \u001B[43mgp\u001B[49m\u001B[38;5;241;43m.\u001B[39;49m\u001B[43mupdate\u001B[49m\u001B[43m(\u001B[49m\u001B[43mcomparisons\u001B[49m\u001B[43m)\u001B[49m\n\u001B[1;32m     65\u001B[0m \u001B[38;5;66;03m# Find the path the user likes best and has the maximum a posteriori (MAP) estimate\u001B[39;00m\n\u001B[1;32m     66\u001B[0m u_v, _ \u001B[38;5;241m=\u001B[39m gp\u001B[38;5;241m.\u001B[39mget_predictive_params(val_p, \u001B[38;5;28;01mTrue\u001B[39;00m)  \u001B[38;5;66;03m# The maximum a posteriori (MAP) estimate is the mean from gaussian_process.get_predictive_params()\u001B[39;00m\n",
      "File \u001B[0;32m~/Desktop/Thesis/Interactive-MOPPA/lmzintgraf_gp_pref_elicit/gaussian_process.py:121\u001B[0m, in \u001B[0;36mGPPairwise.update\u001B[0;34m(self, dataset)\u001B[0m\n\u001B[1;32m    118\u001B[0m \u001B[38;5;28mself\u001B[39m\u001B[38;5;241m.\u001B[39mcov_mat_inv \u001B[38;5;241m=\u001B[39m np\u001B[38;5;241m.\u001B[39mlinalg\u001B[38;5;241m.\u001B[39minv(\u001B[38;5;28mself\u001B[39m\u001B[38;5;241m.\u001B[39mcov_mat)\n\u001B[1;32m    120\u001B[0m \u001B[38;5;66;03m# compute the map estimate of f\u001B[39;00m\n\u001B[0;32m--> 121\u001B[0m \u001B[38;5;28mself\u001B[39m\u001B[38;5;241m.\u001B[39mutility_vals \u001B[38;5;241m=\u001B[39m \u001B[38;5;28;43mself\u001B[39;49m\u001B[38;5;241;43m.\u001B[39;49m\u001B[43m_compute_posterior\u001B[49m\u001B[43m(\u001B[49m\u001B[43m)\u001B[49m\n\u001B[1;32m    123\u001B[0m \u001B[38;5;66;03m# compute the hessian of the likelihood given f_MAP\u001B[39;00m\n\u001B[1;32m    124\u001B[0m \u001B[38;5;28mself\u001B[39m\u001B[38;5;241m.\u001B[39mhess_likelihood \u001B[38;5;241m=\u001B[39m \u001B[38;5;28mself\u001B[39m\u001B[38;5;241m.\u001B[39m_compute_hess_likelihood()\n",
      "File \u001B[0;32m~/Desktop/Thesis/Interactive-MOPPA/lmzintgraf_gp_pref_elicit/gaussian_process.py:273\u001B[0m, in \u001B[0;36mGPPairwise._compute_posterior\u001B[0;34m(self)\u001B[0m\n\u001B[1;32m    269\u001B[0m \u001B[38;5;66;03m# compute b\u001B[39;00m\n\u001B[1;32m    270\u001B[0m h_j \u001B[38;5;241m=\u001B[39m np\u001B[38;5;241m.\u001B[39marray([np\u001B[38;5;241m.\u001B[39marray(\u001B[38;5;28mself\u001B[39m\u001B[38;5;241m.\u001B[39mcomparisons[:, \u001B[38;5;241m0\u001B[39m] \u001B[38;5;241m==\u001B[39m j, dtype\u001B[38;5;241m=\u001B[39m\u001B[38;5;28mint\u001B[39m) \u001B[38;5;241m-\u001B[39m\n\u001B[1;32m    271\u001B[0m                 np\u001B[38;5;241m.\u001B[39marray(\u001B[38;5;28mself\u001B[39m\u001B[38;5;241m.\u001B[39mcomparisons[:, \u001B[38;5;241m1\u001B[39m] \u001B[38;5;241m==\u001B[39m j, dtype\u001B[38;5;241m=\u001B[39m\u001B[38;5;28mint\u001B[39m) \u001B[38;5;28;01mfor\u001B[39;00m j \u001B[38;5;129;01min\u001B[39;00m\n\u001B[1;32m    272\u001B[0m                 \u001B[38;5;28mrange\u001B[39m(\u001B[38;5;28mself\u001B[39m\u001B[38;5;241m.\u001B[39mdatapoints\u001B[38;5;241m.\u001B[39mshape[\u001B[38;5;241m0\u001B[39m])])\n\u001B[0;32m--> 273\u001B[0m b \u001B[38;5;241m=\u001B[39m \u001B[43mnp\u001B[49m\u001B[38;5;241;43m.\u001B[39;49m\u001B[43msum\u001B[49m\u001B[43m(\u001B[49m\u001B[43mh_j\u001B[49m\u001B[43m \u001B[49m\u001B[38;5;241;43m*\u001B[39;49m\u001B[43m \u001B[49m\u001B[43mnp\u001B[49m\u001B[38;5;241;43m.\u001B[39;49m\u001B[43mexp\u001B[49m\u001B[43m(\u001B[49m\u001B[43mz_logpdf\u001B[49m\u001B[43m \u001B[49m\u001B[38;5;241;43m-\u001B[39;49m\u001B[43m \u001B[49m\u001B[43mz_logcdf\u001B[49m\u001B[43m)\u001B[49m\u001B[43m,\u001B[49m\u001B[43m \u001B[49m\u001B[43maxis\u001B[49m\u001B[38;5;241;43m=\u001B[39;49m\u001B[38;5;241;43m1\u001B[39;49m\u001B[43m)\u001B[49m \u001B[38;5;241m/\u001B[39m (np\u001B[38;5;241m.\u001B[39msqrt(\u001B[38;5;241m2\u001B[39m) \u001B[38;5;241m*\u001B[39m \u001B[38;5;28mself\u001B[39m\u001B[38;5;241m.\u001B[39mstd_noise)\n\u001B[1;32m    275\u001B[0m \u001B[38;5;66;03m# compute gradient g\u001B[39;00m\n\u001B[1;32m    276\u001B[0m g \u001B[38;5;241m=\u001B[39m \u001B[38;5;241m-\u001B[39m np\u001B[38;5;241m.\u001B[39mdot(\u001B[38;5;28mself\u001B[39m\u001B[38;5;241m.\u001B[39mcov_mat_inv, (f_map \u001B[38;5;241m-\u001B[39m \u001B[38;5;28mself\u001B[39m\u001B[38;5;241m.\u001B[39mprior_mean(\u001B[38;5;28mself\u001B[39m\u001B[38;5;241m.\u001B[39mdatapoints))) \u001B[38;5;241m+\u001B[39m b\n",
      "File \u001B[0;32m<__array_function__ internals>:200\u001B[0m, in \u001B[0;36msum\u001B[0;34m(*args, **kwargs)\u001B[0m\n",
      "File \u001B[0;32m/usr/local/anaconda3/envs/test/lib/python3.10/site-packages/numpy/core/fromnumeric.py:2324\u001B[0m, in \u001B[0;36msum\u001B[0;34m(a, axis, dtype, out, keepdims, initial, where)\u001B[0m\n\u001B[1;32m   2321\u001B[0m         \u001B[38;5;28;01mreturn\u001B[39;00m out\n\u001B[1;32m   2322\u001B[0m     \u001B[38;5;28;01mreturn\u001B[39;00m res\n\u001B[0;32m-> 2324\u001B[0m \u001B[38;5;28;01mreturn\u001B[39;00m \u001B[43m_wrapreduction\u001B[49m\u001B[43m(\u001B[49m\u001B[43ma\u001B[49m\u001B[43m,\u001B[49m\u001B[43m \u001B[49m\u001B[43mnp\u001B[49m\u001B[38;5;241;43m.\u001B[39;49m\u001B[43madd\u001B[49m\u001B[43m,\u001B[49m\u001B[43m \u001B[49m\u001B[38;5;124;43m'\u001B[39;49m\u001B[38;5;124;43msum\u001B[39;49m\u001B[38;5;124;43m'\u001B[39;49m\u001B[43m,\u001B[49m\u001B[43m \u001B[49m\u001B[43maxis\u001B[49m\u001B[43m,\u001B[49m\u001B[43m \u001B[49m\u001B[43mdtype\u001B[49m\u001B[43m,\u001B[49m\u001B[43m \u001B[49m\u001B[43mout\u001B[49m\u001B[43m,\u001B[49m\u001B[43m \u001B[49m\u001B[43mkeepdims\u001B[49m\u001B[38;5;241;43m=\u001B[39;49m\u001B[43mkeepdims\u001B[49m\u001B[43m,\u001B[49m\n\u001B[1;32m   2325\u001B[0m \u001B[43m                      \u001B[49m\u001B[43minitial\u001B[49m\u001B[38;5;241;43m=\u001B[39;49m\u001B[43minitial\u001B[49m\u001B[43m,\u001B[49m\u001B[43m \u001B[49m\u001B[43mwhere\u001B[49m\u001B[38;5;241;43m=\u001B[39;49m\u001B[43mwhere\u001B[49m\u001B[43m)\u001B[49m\n",
      "File \u001B[0;32m/usr/local/anaconda3/envs/test/lib/python3.10/site-packages/numpy/core/fromnumeric.py:86\u001B[0m, in \u001B[0;36m_wrapreduction\u001B[0;34m(obj, ufunc, method, axis, dtype, out, **kwargs)\u001B[0m\n\u001B[1;32m     83\u001B[0m         \u001B[38;5;28;01melse\u001B[39;00m:\n\u001B[1;32m     84\u001B[0m             \u001B[38;5;28;01mreturn\u001B[39;00m reduction(axis\u001B[38;5;241m=\u001B[39maxis, out\u001B[38;5;241m=\u001B[39mout, \u001B[38;5;241m*\u001B[39m\u001B[38;5;241m*\u001B[39mpasskwargs)\n\u001B[0;32m---> 86\u001B[0m \u001B[38;5;28;01mreturn\u001B[39;00m \u001B[43mufunc\u001B[49m\u001B[38;5;241;43m.\u001B[39;49m\u001B[43mreduce\u001B[49m\u001B[43m(\u001B[49m\u001B[43mobj\u001B[49m\u001B[43m,\u001B[49m\u001B[43m \u001B[49m\u001B[43maxis\u001B[49m\u001B[43m,\u001B[49m\u001B[43m \u001B[49m\u001B[43mdtype\u001B[49m\u001B[43m,\u001B[49m\u001B[43m \u001B[49m\u001B[43mout\u001B[49m\u001B[43m,\u001B[49m\u001B[43m \u001B[49m\u001B[38;5;241;43m*\u001B[39;49m\u001B[38;5;241;43m*\u001B[39;49m\u001B[43mpasskwargs\u001B[49m\u001B[43m)\u001B[49m\n",
      "\u001B[0;31mAxisError\u001B[0m: axis 1 is out of bounds for array of dimension 1"
     ]
    }
   ],
   "source": [
    "import outer_loop\n",
    "t, p_star, val_vector_p_star = outer_loop.outer(G, S, T, objectives)\n",
    "print(f\"Target {t}; Path {p_star} with cost {val_vector_p_star}\")"
   ],
   "metadata": {
    "collapsed": false
   }
  },
  {
   "cell_type": "code",
   "execution_count": null,
   "outputs": [],
   "source": [
    "# Initialise the Gaussian process for 2 objectives\n",
    "gp = gaussian_process.GPPairwise(num_objectives=2, std_noise=0.01, kernel_width=0.15, prior_mean_type='zero', seed=None)\n",
    "\n",
    "P = []  # Pareto set\n",
    "val_p = []  # value vectors w.r.t. p, i.e., v^{p_1}, v^{p_2}\n",
    "val_vector_p_star = []  # value vectors w.r.t. p^*\n",
    "compare_ps_pstar = []\n",
    "\n",
    "# Path initialisation\n",
    "for i in objectives:\n",
    "    p = nx.shortest_path(G, source=S, target=T, weight=i, method='dijkstra')  # Dijkstra's algorithm\n",
    "    P.append(p)\n",
    "\n",
    "    # Computes the total cost associated with the path and objective, i.e., the value of the path\n",
    "    val_obj1 = nx.path_weight(G, path=p, weight='length')\n",
    "    val_obj2 = nx.path_weight(G, path=p, weight='crossing')\n",
    "    val_p.append(np.array([val_obj1, val_obj2]))\n",
    "\n",
    "# Candidate Targets, i.e., the most optimistic points\n",
    "C = [min(val_p[0][0], val_p[1][0]), min(val_p[0][1], val_p[1][1])]\n",
    "C = [np.array(C)]\n",
    "\n",
    "# The most pessimistic points form the upper bounds\n",
    "U = [max(val_p[0][0], val_p[1][0]), max(val_p[0][1], val_p[1][1])]\n",
    "\n",
    "# User ranking: Compare paths in P\n",
    "user_preference = utils_user.UserPreference(num_objectives=2, std_noise=0.1)\n",
    "add_noise = True\n",
    "ground_utility = user_preference.get_preference(val_p, add_noise=add_noise)  # This is the ground-truth utility, i.e., the true utility\n",
    "\n",
    "# Add the comparisons to the GP\n",
    "comparisons = dataset.DatasetPairwise(num_objectives=2)\n",
    "comparisons.add_single_comparison(val_p[np.argmax(ground_utility)], val_p[np.argmin(ground_utility)])  # This is user ranking of their preferences\n",
    "gp.update(comparisons)\n",
    "\n",
    "# Find the path the user likes best and has the maximum a posteriori (MAP) estimate\n",
    "u_v, _ = gp.get_predictive_params(val_p, True)  # The maximum a posteriori (MAP) estimate is the mean from gaussian_process.get_predictive_params()\n",
    "p_star_index = np.argmax(u_v)\n",
    "p_star = P[p_star_index]\n",
    "\n",
    "# Computes the total cost associated with the path and objective, i.e., the value of the path\n",
    "val_p_star1 = nx.path_weight(G, path=p_star, weight='length')\n",
    "val_p_star2 = nx.path_weight(G, path=p_star, weight='crossing')\n",
    "val_vector_p_star.append(np.array([val_p_star1, val_p_star2]))\n",
    "\n",
    "# Initialise the acquisition function\n",
    "input_domain = np.array(C)  # set of Candidate targets\n",
    "acq_fun = acquisition_function.DiscreteAcquirer(input_domain=input_domain, query_type='ranking', seed=123, acquisition_type='expected improvement')\n",
    "\n"
   ],
   "metadata": {
    "collapsed": false
   }
  },
  {
   "cell_type": "code",
   "execution_count": null,
   "outputs": [],
   "source": [
    "import dfs_lower\n",
    "while len(C) != 0:\n",
    "    # Pick the Candidate target which has the highest value from the acquisition function\n",
    "    expected_improvement = acquisition_function.get_expected_improvement(input_domain, gp, acq_fun.history)\n",
    "    t_index = np.argmax(expected_improvement)\n",
    "    t = input_domain[t_index]\n",
    "#\n",
    "#     # Remove t from C\n",
    "#     C = np.delete(C, np.where(np.all(C == t)))\n",
    "    indices = [i for i, x in enumerate(C) if np.all(x == t)]\n",
    "    for index in sorted(indices, reverse=True):\n",
    "        del C[index]\n",
    "\n",
    "    # Inner-loop approach with DFS guided by the lower-bounds computed from the single-objective value iteration\n",
    "    p_s, val_p_s, new_U = dfs_lower.dfs_lower(G, S, T, t, U, max_iter=1000)\n",
    "    U = new_U\n",
    "\n",
    "    # If v^p_s improves in the target region\n",
    "    if np.any(np.greater(val_p_s, U)):\n",
    "        P = P.append(p_s)\n",
    "\n",
    "        # Compare p^s to p^∗ and add comparison to the GP ▷ User ranking, i.e., is the new path preferred to the current, maximum one?\n",
    "        compare_ps_pstar.append(np.array([val_p_s, val_vector_p_star]))\n",
    "        ranking_new_paths = user_preference.get_preference(compare_ps_pstar, add_noise=add_noise)\n",
    "\n",
    "        # Add the comparisons to the GP\n",
    "        comparisons.add_single_comparison(compare_ps_pstar[np.argmax(ranking_new_paths)], compare_ps_pstar[np.argmin(ranking_new_paths)])\n",
    "        gp.update(comparisons)\n",
    "\n",
    "        # if u(v^{p^s}) > u(v^{p^*}) then\n",
    "        u_v_p_s, _ = gp.get_predictive_params(val_p_s, True)  # The maximum a posteriori (MAP) estimate is the mean from gaussian_process.get_predictive_params()\n",
    "        u_v_p_star, _ = gp.get_predictive_params(val_vector_p_star, True)\n",
    "\n",
    "        if u_v_p_s > u_v_p_star:\n",
    "            # p^∗ ← p^s\n",
    "            p_star = p_s\n",
    "\n",
    "        # Compute new candidate targets based on v^{p^s} and add to C\n",
    "        new_C = [min(val_p_s[0][0], val_p_s[1][0]), min(val_p_s[0][1], val_p_s[1][1])]\n",
    "        C = np.append(new_C)\n",
    "\n",
    "print(f\"Target {t}; Path {p_star} with cost {val_vector_p_star}\")\n",
    "# print(\"Stop\")\n"
   ],
   "metadata": {
    "collapsed": false
   }
  },
  {
   "cell_type": "code",
   "execution_count": null,
   "outputs": [],
   "source": [],
   "metadata": {
    "collapsed": false
   }
  },
  {
   "cell_type": "code",
   "execution_count": null,
   "outputs": [],
   "source": [
    "# Initialise the Gaussian process for 2 objectives\n",
    "gp = gaussian_process.GPPairwise(num_objectives=2, std_noise=0.01, kernel_width=0.15,prior_mean_type='zero', seed=None)"
   ],
   "metadata": {
    "collapsed": false
   }
  },
  {
   "cell_type": "code",
   "execution_count": null,
   "outputs": [],
   "source": [
    "P = [] #Pareto set\n",
    "p = [] #paths computed by Dijkstra's algorithm\n",
    "val_vector_p = [] #value vectors w.r.t. p, i.e., v^{p_1}, v^{p_2}\n",
    "\n",
    "# Path initialisation\n",
    "for i in objectives:\n",
    "    p = nx.shortest_path(G, source=S, target=T, weight=i, method='dijkstra') #Dijkstra's algorithm\n",
    "    P.append(p)\n",
    "\n",
    "    val_obj1 = nx.path_weight(G, path=p, weight='length') #Returns total cost associated with the path and weight. In other words, it returns the value of the path.\n",
    "    val_obj2 = nx.path_weight(G, path=p, weight='crossing')\n",
    "    val_vector_p.append(np.array([val_obj1, val_obj2]))"
   ],
   "metadata": {
    "collapsed": false
   }
  },
  {
   "cell_type": "code",
   "execution_count": null,
   "outputs": [],
   "source": [
    "val_vector_p"
   ],
   "metadata": {
    "collapsed": false
   }
  },
  {
   "cell_type": "code",
   "execution_count": null,
   "outputs": [],
   "source": [
    "#Candidate Targets, i.e., the most optimistic points\n",
    "C = [min(val_vector_p[0][0], val_vector_p[1][0]), min(val_vector_p[0][1], val_vector_p[1][1])]\n",
    "C = [np.array(C)]\n",
    "print(C)"
   ],
   "metadata": {
    "collapsed": false
   }
  },
  {
   "cell_type": "code",
   "execution_count": null,
   "outputs": [],
   "source": [
    "# The most pessimistic points form the upper bounds\n",
    "U = [max(val_vector_p[0][0], val_vector_p[1][0]), max(val_vector_p[0][1], val_vector_p[1][1])]\n",
    "U"
   ],
   "metadata": {
    "collapsed": false
   }
  },
  {
   "cell_type": "code",
   "execution_count": null,
   "outputs": [],
   "source": [
    "# User ranking: Compare paths in P\n",
    "user_preference = utils_user.UserPreference(num_objectives=2, std_noise=0.1)"
   ],
   "metadata": {
    "collapsed": false
   }
  },
  {
   "cell_type": "code",
   "execution_count": null,
   "outputs": [],
   "source": [
    "add_noise = True\n",
    "ground_utility = user_preference.get_preference(val_vector_p, add_noise=add_noise) #This is the ground-truth utility, i.e., the true utility\n",
    "print(ground_utility)"
   ],
   "metadata": {
    "collapsed": false
   }
  },
  {
   "cell_type": "code",
   "execution_count": null,
   "outputs": [],
   "source": [
    "# Add the comparisons to GP\n",
    "comparisons = dataset.DatasetPairwise(num_objectives=2)\n",
    "\n",
    "comparisons.add_single_comparison(val_vector_p[np.argmax(ground_utility)], val_vector_p[np.argmin(ground_utility)]) #This way we are performing user ranking of their preferences\n",
    "print(comparisons.datapoints)\n",
    "gp.update(comparisons)"
   ],
   "metadata": {
    "collapsed": false
   }
  },
  {
   "cell_type": "code",
   "execution_count": null,
   "outputs": [],
   "source": [
    "# Find the path the user likes best and has the maximum a posteriori (MAP) estimate\n",
    "u_v, _ = gp.get_predictive_params(val_vector_p, True) #The maximum a posteriori (MAP) estimate is the mean from gaussian_process.get_predictive_params()\n",
    "print(u_v)"
   ],
   "metadata": {
    "collapsed": false
   }
  },
  {
   "cell_type": "code",
   "execution_count": null,
   "outputs": [],
   "source": [
    "p_star_index = np.argmax(u_v)\n",
    "p_star_index"
   ],
   "metadata": {
    "collapsed": false
   }
  },
  {
   "cell_type": "code",
   "execution_count": null,
   "outputs": [],
   "source": [
    "p_star = P[p_star_index]\n",
    "p_star"
   ],
   "metadata": {
    "collapsed": false
   }
  },
  {
   "cell_type": "code",
   "execution_count": null,
   "outputs": [],
   "source": [
    "input_domain = np.array(C) #set of candidate targets\n",
    "print(input_domain)"
   ],
   "metadata": {
    "collapsed": false
   }
  },
  {
   "cell_type": "code",
   "execution_count": null,
   "outputs": [],
   "source": [
    "# Initialise the acquisition function\n",
    "acq_fun = acquisition_function.DiscreteAcquirer(input_domain=input_domain, query_type='ranking', seed=123, acquisition_type='expected improvement')"
   ],
   "metadata": {
    "collapsed": false
   }
  },
  {
   "cell_type": "code",
   "execution_count": null,
   "outputs": [],
   "source": [
    "# TODO: The next code cells are in a while-loop\n",
    "# while C:\n",
    "#     expected_improvement = acquisition_function.get_expected_improvement(input_domain, gp, acq_fun.history)\n",
    "#     t_index = np.argmax(expected_improvement)\n",
    "#     t = C[t_index]\n",
    "#     C.remove(t)\n",
    "#\n",
    "# # t_index\n",
    "# print(t)"
   ],
   "metadata": {
    "collapsed": false
   }
  },
  {
   "cell_type": "code",
   "execution_count": null,
   "outputs": [],
   "source": [
    "expected_improvement = acquisition_function.get_expected_improvement(input_domain, gp, acq_fun.history)\n",
    "print(expected_improvement)"
   ],
   "metadata": {
    "collapsed": false
   }
  },
  {
   "cell_type": "code",
   "execution_count": null,
   "outputs": [],
   "source": [
    "t_index = np.argmax(expected_improvement)\n",
    "t_index"
   ],
   "metadata": {
    "collapsed": false
   }
  },
  {
   "cell_type": "code",
   "execution_count": null,
   "outputs": [],
   "source": [
    "t = input_domain[t_index]\n",
    "print(t)"
   ],
   "metadata": {
    "collapsed": false
   }
  },
  {
   "cell_type": "code",
   "execution_count": null,
   "outputs": [],
   "source": [
    "# Remove t from C\n",
    "# C = np.delete(C, np.where(np.all(C == t)))\n",
    "indices = [i for i, x in enumerate(C) if np.all(x == t)]\n",
    "for index in sorted(indices, reverse=True):\n",
    "    del C[index]\n",
    "print(C)"
   ],
   "metadata": {
    "collapsed": false
   }
  },
  {
   "cell_type": "code",
   "execution_count": null,
   "outputs": [],
   "source": [
    "v_n = {}\n",
    "threshold=1e-8\n",
    "max_iter=1000\n",
    "obj = 'length'\n",
    "next_node = {}\n",
    "edge_cost = []\n",
    "\n",
    "for n in G:\n",
    "    v_n[n] = np.inf\n",
    "    if n == T:\n",
    "        v_n[n] = 0\n",
    "\n",
    "for i in range(max_iter): #or until convergence\n",
    "\n",
    "    converged = True\n",
    "\n",
    "    # print(\"iteration:\", i)\n",
    "    for e in G.edges(data=True):\n",
    "        n1, n2 = e[0], e[1]\n",
    "        # if v_n[n1] != np.inf or v_n[n2] != np.inf:\n",
    "        #     print(e[0], e[1], \":\", v_n[n1], v_n[n2])\n",
    "\n",
    "        # print(n2 in G)\n",
    "        cost = e[2][obj]\n",
    "        edge_cost.append(cost)\n",
    "        # print(cost)\n",
    "\n",
    "            # print(e)\n",
    "        result1 = min(cost + v_n[n2], v_n[n1])\n",
    "        result2 = min(cost + v_n[n1], v_n[n2])\n",
    "            # print(\"result1:\", result1, \"sum1:\", cost + v_n[n2])\n",
    "            # print(\"result2\", result2, \"sum2:\", cost + v_n[n1])\n",
    "        if v_n[n1] != result1 or v_n[n2] != result2:\n",
    "            converged = False\n",
    "\n",
    "        if v_n[n1] != result1:\n",
    "            next_node[n1] = n2\n",
    "\n",
    "        if v_n[n2] != result2:\n",
    "            next_node[n2] = n1\n",
    "\n",
    "        v_n[n1] = result1\n",
    "        v_n[n2] = result2\n",
    "\n",
    "        # if n1 == T or n2==T:\n",
    "        #     # print(result1, result2)\n",
    "        #     print(v_n[n1], v_n[n2])\n",
    "\n",
    "\n",
    "    # converged = all(n in v_n_copy and abs(v_n[n] - v_n_copy[n]) < threshold for n in v_n)\n",
    "    if converged:\n",
    "        break\n",
    "\n",
    "\n",
    "        # if v_n[n1] != np.inf:\n",
    "        #     print(n1,v_n[n1])\n",
    "        # if v_n[n2] != np.inf:\n",
    "        #     print(n2,v_n[n2])\n",
    "\n",
    "print(v_n)\n",
    "# print(next_node)\n",
    "\n",
    "# S = (122245.37633330293, 486126.8581684635)\n",
    "# T = (122246.77932030056, 486223.5791244763)"
   ],
   "metadata": {
    "collapsed": false
   }
  },
  {
   "cell_type": "code",
   "execution_count": null,
   "outputs": [],
   "source": [
    "import single_vi_iter\n",
    "# lower_bounds = []\n",
    "# next_nodes = []\n",
    "\n",
    "lower_length = single_vi_iter.single_value_iter(G, T, 'length')\n",
    "lower_crossing = single_vi_iter.single_value_iter(G, T, 'crossing')\n",
    "# next_nodes.append(np.array([next_node_length, next_node_crossing]))\n",
    "# print(\"NEXT:\", next_node_crossing)\n",
    "\n",
    "# lower_bounds.append(np.array([lower_length, lower_crossing]))\n",
    "# lower_bounds\n",
    "\n",
    "#crossing: (122246.10058319086, 486224.512771215): (122246.77932030056, 486223.5791244763)"
   ],
   "metadata": {
    "collapsed": false
   }
  },
  {
   "cell_type": "code",
   "execution_count": null,
   "outputs": [],
   "source": [
    "i = 0  # track iterations of the algorithm\n",
    "max_iter = 1000\n",
    "\n",
    "cost_history = np.array([0,0]) # What we've already seen\n",
    "\n",
    "stack = [(S, cost_history, [S])]  # (starting node, cost so far, path), where cost_history is from previous_state to S, path is from S to current_state (i.e., S)\n",
    "\n",
    "# r1 = 0 # Result from objective length\n",
    "# r2 = 0 # Result from objective crossing\n",
    "result = [] # The new lower bound\n",
    "\n",
    "# min_distance = np.inf\n",
    "# closest_node = None\n",
    "# val_vector_path = []\n",
    "\n",
    "\n",
    "while stack:\n",
    "    current_node, current_cost, path = stack.pop()  # current_cost=total cost up to the current_node\n",
    "\n",
    "    if current_node == T:\n",
    "        U = current_cost\n",
    "        print(f\"Path {path} with cost {current_cost}\")\n",
    "\n",
    "    neighbor_list = []\n",
    "\n",
    "    for neighbor in G.neighbors(current_node):\n",
    "        edge = G[current_node][neighbor]\n",
    "        list = [v for k, v in edge.items()]\n",
    "        # print(edge)\n",
    "        cost = np.array([list[0]['length'], list[0]['crossing']])\n",
    "\n",
    "        result = current_cost + cost + np.array([lower_length[neighbor], lower_crossing[neighbor]]) # This is the new lower bound\n",
    "        # print(result)\n",
    "\n",
    "        # Pruning paths that won't be Pareto-better compared to the current upper bound\n",
    "        if np.any(np.greater(result, U)): # If it's outside of target region, ignore it\n",
    "            continue\n",
    "\n",
    "        distance = np.sum(np.abs(t - result)) # Manhattan distance\n",
    "\n",
    "        neighbor_list.append((neighbor, distance, (current_cost + cost)))\n",
    "\n",
    "\n",
    "    neighbor_list.sort(key=lambda x:x[1], reverse=True)\n",
    "    for n in neighbor_list:\n",
    "        path_copy = path.copy()\n",
    "        path_copy.append(n[0])\n",
    "        stack.append((n[0], n[2], path_copy))\n",
    "\n",
    "    i += 1\n",
    "    if max_iter is not None and i >= max_iter:\n",
    "        print(\"The algorithm has reached the given maximum iterations, but has found no solution.\")\n",
    "        break\n",
    "\n",
    "# S = (122245.37633330293, 486126.8581684635)\n",
    "# T = (122246.77932030056, 486223.5791244763)\n",
    "# t = [165.21   2.  ]"
   ],
   "metadata": {
    "collapsed": false
   }
  },
  {
   "cell_type": "code",
   "execution_count": null,
   "outputs": [],
   "source": [
    "p_s = path\n"
   ],
   "metadata": {
    "collapsed": false
   }
  },
  {
   "cell_type": "code",
   "execution_count": null,
   "outputs": [],
   "source": [
    "# If v^p_s improves in the target region\n",
    "\n",
    "# val_vector_p_s = []\n",
    "# val_p_s1 = nx.path_weight(G, path=p_s, weight='length')\n",
    "# val_p_s2 = nx.path_weight(G, path=p_s, weight='crossing')\n",
    "# val_vector_p_s.append(np.array([val_p_s1, val_p_s2]))\n",
    "# if val_p_s1 < U[0] and val_p_s2 < U[1]:\n",
    "if np.any(np.greater(current_cost, U)):\n",
    "    P = P.append(p_s)\n",
    "\n",
    "    #Compare p^s to p^∗ and add comparison to the GP ▷User ranking, i.e., is the new path preferred to the current, maximum one?\n",
    "    compare_ps_pstar = []\n",
    "    val_vector_p_star = []\n",
    "\n",
    "    val_p_star1 = nx.path_weight(G, path=p_star, weight='length')\n",
    "    val_p_star2 = nx.path_weight(G, path=p_star, weight='crossing')\n",
    "    val_vector_p_star.append(np.array([val_p_star1, val_p_star2]))\n",
    "\n",
    "    compare_ps_pstar.append(np.array([current_cost, val_vector_p_star]))\n",
    "\n",
    "    ranking_new_paths = user_preference.get_preference(compare_ps_pstar, add_noise=add_noise)\n",
    "    print(ranking_new_paths)\n",
    "\n",
    "    # Add the comparisons to GP\n",
    "    comparisons.add_single_comparison(compare_ps_pstar[np.argmax(ranking_new_paths)], compare_ps_pstar[np.argmin(ranking_new_paths)])  #This way we are performing user ranking of their preferences\n",
    "    # print(comparisons.datapoints)\n",
    "    gp.update(comparisons)\n",
    "\n",
    "    u_v_p_s, _ = gp.get_predictive_params(current_cost, True)  #The maximum a posteriori (MAP) estimate is the mean from gaussian_process.get_predictive_params()\n",
    "    u_v_p_star, _ = gp.get_predictive_params(val_vector_p_star, True)\n",
    "\n",
    "    # if u(v^{p^s}) > u(v^{p^*}) then\n",
    "    if current_cost > val_vector_p_star:\n",
    "        #p^∗ ← p^s\n",
    "        p_star = p_s\n",
    "\n",
    "    # Compute new candidate targets based on v^{p^s} and add to C\n",
    "    new_C = [min(current_cost[0][0], current_cost[1][0]), min(current_cost[0][1], current_cost[1][1])]\n",
    "    C = np.append(new_C)\n",
    "print(f\"P_star: {p_star} with cost {val_vector_p_star}\")\n"
   ],
   "metadata": {
    "collapsed": false
   }
  },
  {
   "cell_type": "code",
   "execution_count": null,
   "outputs": [],
   "source": [],
   "metadata": {
    "collapsed": false
   }
  }
 ],
 "metadata": {
  "kernelspec": {
   "display_name": "Python 3",
   "language": "python",
   "name": "python3"
  },
  "language_info": {
   "codemirror_mode": {
    "name": "ipython",
    "version": 2
   },
   "file_extension": ".py",
   "mimetype": "text/x-python",
   "name": "python",
   "nbconvert_exporter": "python",
   "pygments_lexer": "ipython2",
   "version": "2.7.6"
  }
 },
 "nbformat": 4,
 "nbformat_minor": 0
}
