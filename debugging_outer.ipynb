{
 "cells": [
  {
   "cell_type": "code",
   "execution_count": 2,
   "outputs": [],
   "source": [
    "# Import libraries\n",
    "import numpy as np\n",
    "import geopandas as gpd\n",
    "import momepy\n",
    "import networkx as nx\n",
    "# import pandas as pd\n",
    "# import shapely\n",
    "# import shapely.geometry as sg\n",
    "# import matplotlib\n",
    "import matplotlib.pyplot as plt\n",
    "%matplotlib inline\n",
    "\n",
    "from lmzintgraf_gp_pref_elicit import dataset, gaussian_process, acquisition_function\n",
    "from lmzintgraf_gp_pref_elicit.gp_utilities import utils_ccs as utils_ccs\n",
    "from lmzintgraf_gp_pref_elicit.gp_utilities import utils_data as utils_data\n",
    "from lmzintgraf_gp_pref_elicit.gp_utilities import utils_experiment as utils_experiment\n",
    "from lmzintgraf_gp_pref_elicit.gp_utilities import utils_parameters as utils_parameters\n",
    "from lmzintgraf_gp_pref_elicit.gp_utilities import utils_user as utils_user"
   ],
   "metadata": {
    "collapsed": false
   }
  },
  {
   "cell_type": "code",
   "execution_count": 3,
   "outputs": [],
   "source": [
    "map = gpd.read_file(\"Sidewalk_width_crossings_smaller.geojson\") #~180 nodes\n",
    "\n",
    "# Objectives\n",
    "objective1 = map['length']\n",
    "objective2 = map['crossing']\n",
    "objective3 = map['obstacle_free_width']\n",
    "\n",
    "objectives = ('length', 'crossing')"
   ],
   "metadata": {
    "collapsed": false
   }
  },
  {
   "cell_type": "code",
   "execution_count": 4,
   "outputs": [
    {
     "name": "stderr",
     "output_type": "stream",
     "text": [
      "/usr/local/anaconda3/envs/test/lib/python3.10/site-packages/momepy/utils.py:252: UserWarning: Geometry is in a geographic CRS. Results from 'length' are likely incorrect. Use 'GeoSeries.to_crs()' to re-project geometries to a projected CRS before this operation.\n",
      "\n",
      "  gdf_network[length] = gdf_network.geometry.length\n"
     ]
    }
   ],
   "source": [
    "# Create a NetworkX graph from the map\n",
    "G = momepy.gdf_to_nx(map, approach='primal')\n",
    "nodes = G.nodes\n",
    "# print(len(nodes))\n",
    "edges = G.edges\n",
    "# print(len(max(nx.connected_components(G), key=len)))"
   ],
   "metadata": {
    "collapsed": false
   }
  },
  {
   "cell_type": "code",
   "execution_count": null,
   "outputs": [],
   "source": [
    "#Show the map as nodes and edges\n",
    "\n",
    "from shapely.geometry import Point\n",
    "# start_node = gpd.GeoDataFrame({'geometry': [Point(122245.37633330293,\n",
    "#                                                   486126.8581684635)]})\n",
    "# end_node = gpd.GeoDataFrame({'geometry': [Point(122247.04588395767,\n",
    "#                                                   486167.91526857053)]})\n",
    "# fig, ax = plt.subplots(figsize=(14,14), dpi=600)\n",
    "# # All nodes and edges\n",
    "# nx.draw(G, {n:[n[0], n[1]] for n in list(G.nodes)}, ax=ax, node_size=3)\n",
    "# # Start & end node\n",
    "# start_node.plot(ax=ax, color='red')\n",
    "# end_node.plot(ax=ax, color='purple')\n",
    "# plt.show()"
   ],
   "metadata": {
    "collapsed": false
   }
  },
  {
   "cell_type": "code",
   "execution_count": null,
   "outputs": [],
   "source": [
    "# print(nodes)"
   ],
   "metadata": {
    "collapsed": false
   }
  },
  {
   "cell_type": "code",
   "execution_count": 5,
   "outputs": [],
   "source": [
    "#Pick random ones or pick manually that make sense - to experiment\n",
    "#Smaller map:\n",
    "S = (122245.37633330293, 486126.8581684635)\n",
    "T = (122246.77932030056, 486223.5791244763)\n",
    "#Small map:\n",
    "# S = (120558.58272730978, 486088.5913559315)\n",
    "# T = (120683.06067979027, 485777.31229122455)"
   ],
   "metadata": {
    "collapsed": false
   }
  },
  {
   "cell_type": "code",
   "execution_count": 26,
   "outputs": [
    {
     "name": "stderr",
     "output_type": "stream",
     "text": [
      "/Users/alisatodorova/Desktop/Thesis/Interactive-MOPPA/lmzintgraf_gp_pref_elicit/gp_utilities/utils_user.py:254: RuntimeWarning: overflow encountered in exp\n",
      "  y += 1. / (1 + np.exp(- x * (a-i) + (b+i)))\n"
     ]
    },
    {
     "ename": "KeyboardInterrupt",
     "evalue": "",
     "output_type": "error",
     "traceback": [
      "\u001B[0;31m---------------------------------------------------------------------------\u001B[0m",
      "\u001B[0;31mKeyboardInterrupt\u001B[0m                         Traceback (most recent call last)",
      "Cell \u001B[0;32mIn[26], line 2\u001B[0m\n\u001B[1;32m      1\u001B[0m \u001B[38;5;28;01mimport\u001B[39;00m \u001B[38;5;21;01minner_loop\u001B[39;00m\u001B[38;5;241m,\u001B[39m \u001B[38;5;21;01mouter_loop\u001B[39;00m\n\u001B[0;32m----> 2\u001B[0m p_star, val_vector_p_star \u001B[38;5;241m=\u001B[39m \u001B[43mouter_loop\u001B[49m\u001B[38;5;241;43m.\u001B[39;49m\u001B[43mouter\u001B[49m\u001B[43m(\u001B[49m\u001B[43mG\u001B[49m\u001B[43m,\u001B[49m\u001B[43m \u001B[49m\u001B[43mS\u001B[49m\u001B[43m,\u001B[49m\u001B[43m \u001B[49m\u001B[43mT\u001B[49m\u001B[43m,\u001B[49m\u001B[43m \u001B[49m\u001B[43mobjectives\u001B[49m\u001B[43m)\u001B[49m\n\u001B[1;32m      3\u001B[0m \u001B[38;5;28mprint\u001B[39m(\u001B[38;5;124mf\u001B[39m\u001B[38;5;124m\"\u001B[39m\u001B[38;5;124mPath \u001B[39m\u001B[38;5;132;01m{\u001B[39;00mp_star\u001B[38;5;132;01m}\u001B[39;00m\u001B[38;5;124m with cost \u001B[39m\u001B[38;5;132;01m{\u001B[39;00mval_vector_p_star\u001B[38;5;132;01m}\u001B[39;00m\u001B[38;5;124m\"\u001B[39m)\n",
      "File \u001B[0;32m~/Desktop/Thesis/Interactive-MOPPA/outer_loop.py:89\u001B[0m, in \u001B[0;36mouter\u001B[0;34m(G, S, T, d)\u001B[0m\n\u001B[1;32m     86\u001B[0m C \u001B[38;5;241m=\u001B[39m np\u001B[38;5;241m.\u001B[39mdelete(C, np\u001B[38;5;241m.\u001B[39mwhere(np\u001B[38;5;241m.\u001B[39mall(C \u001B[38;5;241m==\u001B[39m t)))\n\u001B[1;32m     88\u001B[0m \u001B[38;5;66;03m# Inner-loop approach with DFS guided by the lower-bounds computed from the single-objective value iteration\u001B[39;00m\n\u001B[0;32m---> 89\u001B[0m p_s, val_p_s, new_U \u001B[38;5;241m=\u001B[39m \u001B[43mdfs_lower\u001B[49m\u001B[38;5;241;43m.\u001B[39;49m\u001B[43mdfs_lower\u001B[49m\u001B[43m(\u001B[49m\u001B[43mG\u001B[49m\u001B[43m,\u001B[49m\u001B[43m \u001B[49m\u001B[43mS\u001B[49m\u001B[43m,\u001B[49m\u001B[43m \u001B[49m\u001B[43mT\u001B[49m\u001B[43m,\u001B[49m\u001B[43m \u001B[49m\u001B[43mt\u001B[49m\u001B[43m,\u001B[49m\u001B[43m \u001B[49m\u001B[43mU\u001B[49m\u001B[43m,\u001B[49m\u001B[43m \u001B[49m\u001B[43mmax_iter\u001B[49m\u001B[38;5;241;43m=\u001B[39;49m\u001B[38;5;241;43m1000\u001B[39;49m\u001B[43m)\u001B[49m\n\u001B[1;32m     90\u001B[0m U \u001B[38;5;241m=\u001B[39m new_U\n\u001B[1;32m     92\u001B[0m \u001B[38;5;66;03m# If v^p_s improves in the target region\u001B[39;00m\n",
      "File \u001B[0;32m~/Desktop/Thesis/Interactive-MOPPA/dfs_lower.py:23\u001B[0m, in \u001B[0;36mdfs_lower\u001B[0;34m(G, S, T, t, U, max_iter)\u001B[0m\n\u001B[1;32m     10\u001B[0m \u001B[38;5;28;01mdef\u001B[39;00m \u001B[38;5;21mdfs_lower\u001B[39m(G, S, T, t, U, max_iter\u001B[38;5;241m=\u001B[39m\u001B[38;5;28;01mNone\u001B[39;00m):\n\u001B[1;32m     11\u001B[0m \u001B[38;5;250m    \u001B[39m\u001B[38;5;124;03m\"\"\"\u001B[39;00m\n\u001B[1;32m     12\u001B[0m \u001B[38;5;124;03m    Given a target t, the method finds the shortest path from S to T, guided by the lower bounds.\u001B[39;00m\n\u001B[1;32m     13\u001B[0m \u001B[38;5;124;03m    :param G: Multi-objective search graph G = (V, E)\u001B[39;00m\n\u001B[0;32m   (...)\u001B[0m\n\u001B[1;32m     20\u001B[0m \u001B[38;5;124;03m    :return Shortest path and its cost; Updated upper bounds\u001B[39;00m\n\u001B[1;32m     21\u001B[0m \u001B[38;5;124;03m    \"\"\"\u001B[39;00m\n\u001B[0;32m---> 23\u001B[0m     lower_length \u001B[38;5;241m=\u001B[39m \u001B[43msingle_vi_iter\u001B[49m\u001B[38;5;241;43m.\u001B[39;49m\u001B[43msingle_value_iter\u001B[49m\u001B[43m(\u001B[49m\u001B[43mG\u001B[49m\u001B[43m,\u001B[49m\u001B[43m \u001B[49m\u001B[43mT\u001B[49m\u001B[43m,\u001B[49m\u001B[43m \u001B[49m\u001B[38;5;124;43m'\u001B[39;49m\u001B[38;5;124;43mlength\u001B[39;49m\u001B[38;5;124;43m'\u001B[39;49m\u001B[43m)\u001B[49m\n\u001B[1;32m     24\u001B[0m     lower_crossing \u001B[38;5;241m=\u001B[39m single_vi_iter\u001B[38;5;241m.\u001B[39msingle_value_iter(G, T, \u001B[38;5;124m'\u001B[39m\u001B[38;5;124mcrossing\u001B[39m\u001B[38;5;124m'\u001B[39m)\n\u001B[1;32m     26\u001B[0m     i \u001B[38;5;241m=\u001B[39m \u001B[38;5;241m0\u001B[39m  \u001B[38;5;66;03m# track iterations of the algorithm\u001B[39;00m\n",
      "File \u001B[0;32m~/Desktop/Thesis/Interactive-MOPPA/single_vi_iter.py:40\u001B[0m, in \u001B[0;36msingle_value_iter\u001B[0;34m(G, T, objective, max_iter)\u001B[0m\n\u001B[1;32m     37\u001B[0m edge_cost\u001B[38;5;241m.\u001B[39mappend(cost)\n\u001B[1;32m     39\u001B[0m result1 \u001B[38;5;241m=\u001B[39m \u001B[38;5;28mmin\u001B[39m(cost \u001B[38;5;241m+\u001B[39m v_n[n2], v_n[n1])\n\u001B[0;32m---> 40\u001B[0m result2 \u001B[38;5;241m=\u001B[39m \u001B[38;5;28;43mmin\u001B[39;49m\u001B[43m(\u001B[49m\u001B[43mcost\u001B[49m\u001B[43m \u001B[49m\u001B[38;5;241;43m+\u001B[39;49m\u001B[43m \u001B[49m\u001B[43mv_n\u001B[49m\u001B[43m[\u001B[49m\u001B[43mn1\u001B[49m\u001B[43m]\u001B[49m\u001B[43m,\u001B[49m\u001B[43m \u001B[49m\u001B[43mv_n\u001B[49m\u001B[43m[\u001B[49m\u001B[43mn2\u001B[49m\u001B[43m]\u001B[49m\u001B[43m)\u001B[49m\n\u001B[1;32m     42\u001B[0m \u001B[38;5;28;01mif\u001B[39;00m v_n[n1] \u001B[38;5;241m!=\u001B[39m result1 \u001B[38;5;129;01mor\u001B[39;00m v_n[n2] \u001B[38;5;241m!=\u001B[39m result2:\n\u001B[1;32m     43\u001B[0m     converged \u001B[38;5;241m=\u001B[39m \u001B[38;5;28;01mFalse\u001B[39;00m\n",
      "\u001B[0;31mKeyboardInterrupt\u001B[0m: "
     ]
    }
   ],
   "source": [
    "import outer_loop\n",
    "p_star, val_vector_p_star = outer_loop.outer(G, S, T, objectives)\n",
    "print(f\"Path {p_star} with cost {val_vector_p_star}\")"
   ],
   "metadata": {
    "collapsed": false
   }
  },
  {
   "cell_type": "code",
   "execution_count": 22,
   "outputs": [
    {
     "name": "stderr",
     "output_type": "stream",
     "text": [
      "/Users/alisatodorova/Desktop/Thesis/Interactive-MOPPA/lmzintgraf_gp_pref_elicit/gp_utilities/utils_user.py:254: RuntimeWarning: overflow encountered in exp\n",
      "  y += 1. / (1 + np.exp(- x * (a-i) + (b+i)))\n"
     ]
    }
   ],
   "source": [
    "# Initialise the Gaussian process for 2 objectives\n",
    "gp = gaussian_process.GPPairwise(num_objectives=2, std_noise=0.01, kernel_width=0.15, prior_mean_type='zero', seed=None)\n",
    "\n",
    "P = []  # Pareto set\n",
    "val_p = []  # value vectors w.r.t. p, i.e., v^{p_1}, v^{p_2}\n",
    "val_vector_p_star = []  # value vectors w.r.t. p^*\n",
    "compare_ps_pstar = []\n",
    "\n",
    "# Path initialisation\n",
    "for i in objectives:\n",
    "    p = nx.shortest_path(G, source=S, target=T, weight=i, method='dijkstra')  # Dijkstra's algorithm\n",
    "    P.append(p)\n",
    "\n",
    "    # Computes the total cost associated with the path and objective, i.e., the value of the path\n",
    "    val_obj1 = nx.path_weight(G, path=p, weight='length')\n",
    "    val_obj2 = nx.path_weight(G, path=p, weight='crossing')\n",
    "    val_p.append(np.array([val_obj1, val_obj2]))\n",
    "\n",
    "# Candidate Targets, i.e., the most optimistic points\n",
    "C = [min(val_p[0][0], val_p[1][0]), min(val_p[0][1], val_p[1][1])]\n",
    "C = [np.array(C)]\n",
    "\n",
    "# The most pessimistic points form the upper bounds\n",
    "U = [max(val_p[0][0], val_p[1][0]), max(val_p[0][1], val_p[1][1])]\n",
    "\n",
    "# User ranking: Compare paths in P\n",
    "user_preference = utils_user.UserPreference(num_objectives=2, std_noise=0.1)\n",
    "add_noise = True\n",
    "ground_utility = user_preference.get_preference(val_p, add_noise=add_noise)  # This is the ground-truth utility, i.e., the true utility\n",
    "\n",
    "# Add the comparisons to the GP\n",
    "comparisons = dataset.DatasetPairwise(num_objectives=2)\n",
    "comparisons.add_single_comparison(val_p[np.argmax(ground_utility)], val_p[np.argmin(ground_utility)])  # This is user ranking of their preferences\n",
    "gp.update(comparisons)\n",
    "\n",
    "# Find the path the user likes best and has the maximum a posteriori (MAP) estimate\n",
    "u_v, _ = gp.get_predictive_params(val_p, True)  # The maximum a posteriori (MAP) estimate is the mean from gaussian_process.get_predictive_params()\n",
    "p_star_index = np.argmax(u_v)\n",
    "p_star = P[p_star_index]\n",
    "\n",
    "# Computes the total cost associated with the path and objective, i.e., the value of the path\n",
    "val_p_star1 = nx.path_weight(G, path=p_star, weight='length')\n",
    "val_p_star2 = nx.path_weight(G, path=p_star, weight='crossing')\n",
    "val_vector_p_star.append(np.array([val_p_star1, val_p_star2]))\n",
    "\n",
    "# Initialise the acquisition function\n",
    "input_domain = np.array(C)  # set of Candidate targets\n",
    "acq_fun = acquisition_function.DiscreteAcquirer(input_domain=input_domain, query_type='ranking', seed=123, acquisition_type='expected improvement')\n",
    "\n"
   ],
   "metadata": {
    "collapsed": false
   }
  },
  {
   "cell_type": "code",
   "execution_count": 23,
   "outputs": [
    {
     "ename": "KeyboardInterrupt",
     "evalue": "",
     "output_type": "error",
     "traceback": [
      "\u001B[0;31m---------------------------------------------------------------------------\u001B[0m",
      "\u001B[0;31mKeyboardInterrupt\u001B[0m                         Traceback (most recent call last)",
      "Cell \u001B[0;32mIn[23], line 12\u001B[0m\n\u001B[1;32m      9\u001B[0m C \u001B[38;5;241m=\u001B[39m np\u001B[38;5;241m.\u001B[39mdelete(C, np\u001B[38;5;241m.\u001B[39mwhere(np\u001B[38;5;241m.\u001B[39mall(C \u001B[38;5;241m==\u001B[39m t)))\n\u001B[1;32m     11\u001B[0m \u001B[38;5;66;03m# Inner-loop approach with DFS guided by the lower-bounds computed from the single-objective value iteration\u001B[39;00m\n\u001B[0;32m---> 12\u001B[0m p_s, val_p_s, new_U \u001B[38;5;241m=\u001B[39m \u001B[43mdfs_lower\u001B[49m\u001B[38;5;241;43m.\u001B[39;49m\u001B[43mdfs_lower\u001B[49m\u001B[43m(\u001B[49m\u001B[43mG\u001B[49m\u001B[43m,\u001B[49m\u001B[43m \u001B[49m\u001B[43mS\u001B[49m\u001B[43m,\u001B[49m\u001B[43m \u001B[49m\u001B[43mT\u001B[49m\u001B[43m,\u001B[49m\u001B[43m \u001B[49m\u001B[43mt\u001B[49m\u001B[43m,\u001B[49m\u001B[43m \u001B[49m\u001B[43mU\u001B[49m\u001B[43m,\u001B[49m\u001B[43m \u001B[49m\u001B[43mmax_iter\u001B[49m\u001B[38;5;241;43m=\u001B[39;49m\u001B[38;5;241;43m1000\u001B[39;49m\u001B[43m)\u001B[49m\n\u001B[1;32m     13\u001B[0m U \u001B[38;5;241m=\u001B[39m new_U\n\u001B[1;32m     15\u001B[0m \u001B[38;5;66;03m# If v^p_s improves in the target region\u001B[39;00m\n",
      "File \u001B[0;32m~/Desktop/Thesis/Interactive-MOPPA/dfs_lower.py:24\u001B[0m, in \u001B[0;36mdfs_lower\u001B[0;34m(G, S, T, t, U, max_iter)\u001B[0m\n\u001B[1;32m     11\u001B[0m \u001B[38;5;250m\u001B[39m\u001B[38;5;124;03m\"\"\"\u001B[39;00m\n\u001B[1;32m     12\u001B[0m \u001B[38;5;124;03mGiven a target t, the method finds the shortest path from S to T, guided by the lower bounds.\u001B[39;00m\n\u001B[1;32m     13\u001B[0m \u001B[38;5;124;03m:param G: Multi-objective search graph G = (V, E)\u001B[39;00m\n\u001B[0;32m   (...)\u001B[0m\n\u001B[1;32m     20\u001B[0m \u001B[38;5;124;03m:return Shortest path and its cost; Updated upper bounds\u001B[39;00m\n\u001B[1;32m     21\u001B[0m \u001B[38;5;124;03m\"\"\"\u001B[39;00m\n\u001B[1;32m     23\u001B[0m lower_length \u001B[38;5;241m=\u001B[39m single_vi_iter\u001B[38;5;241m.\u001B[39msingle_value_iter(G, T, \u001B[38;5;124m'\u001B[39m\u001B[38;5;124mlength\u001B[39m\u001B[38;5;124m'\u001B[39m)\n\u001B[0;32m---> 24\u001B[0m lower_crossing \u001B[38;5;241m=\u001B[39m \u001B[43msingle_vi_iter\u001B[49m\u001B[38;5;241;43m.\u001B[39;49m\u001B[43msingle_value_iter\u001B[49m\u001B[43m(\u001B[49m\u001B[43mG\u001B[49m\u001B[43m,\u001B[49m\u001B[43m \u001B[49m\u001B[43mT\u001B[49m\u001B[43m,\u001B[49m\u001B[43m \u001B[49m\u001B[38;5;124;43m'\u001B[39;49m\u001B[38;5;124;43mcrossing\u001B[39;49m\u001B[38;5;124;43m'\u001B[39;49m\u001B[43m)\u001B[49m\n\u001B[1;32m     26\u001B[0m i \u001B[38;5;241m=\u001B[39m \u001B[38;5;241m0\u001B[39m  \u001B[38;5;66;03m# track iterations of the algorithm\u001B[39;00m\n\u001B[1;32m     28\u001B[0m cost_history \u001B[38;5;241m=\u001B[39m np\u001B[38;5;241m.\u001B[39marray([\u001B[38;5;241m0\u001B[39m, \u001B[38;5;241m0\u001B[39m])  \u001B[38;5;66;03m# Cost of the path we've already seen so far\u001B[39;00m\n",
      "File \u001B[0;32m~/Desktop/Thesis/Interactive-MOPPA/single_vi_iter.py:39\u001B[0m, in \u001B[0;36msingle_value_iter\u001B[0;34m(G, T, objective, max_iter)\u001B[0m\n\u001B[1;32m     36\u001B[0m cost \u001B[38;5;241m=\u001B[39m e[\u001B[38;5;241m2\u001B[39m][objective]\n\u001B[1;32m     37\u001B[0m edge_cost\u001B[38;5;241m.\u001B[39mappend(cost)\n\u001B[0;32m---> 39\u001B[0m result1 \u001B[38;5;241m=\u001B[39m \u001B[38;5;28;43mmin\u001B[39;49m\u001B[43m(\u001B[49m\u001B[43mcost\u001B[49m\u001B[43m \u001B[49m\u001B[38;5;241;43m+\u001B[39;49m\u001B[43m \u001B[49m\u001B[43mv_n\u001B[49m\u001B[43m[\u001B[49m\u001B[43mn2\u001B[49m\u001B[43m]\u001B[49m\u001B[43m,\u001B[49m\u001B[43m \u001B[49m\u001B[43mv_n\u001B[49m\u001B[43m[\u001B[49m\u001B[43mn1\u001B[49m\u001B[43m]\u001B[49m\u001B[43m)\u001B[49m\n\u001B[1;32m     40\u001B[0m result2 \u001B[38;5;241m=\u001B[39m \u001B[38;5;28mmin\u001B[39m(cost \u001B[38;5;241m+\u001B[39m v_n[n1], v_n[n2])\n\u001B[1;32m     42\u001B[0m \u001B[38;5;28;01mif\u001B[39;00m v_n[n1] \u001B[38;5;241m!=\u001B[39m result1 \u001B[38;5;129;01mor\u001B[39;00m v_n[n2] \u001B[38;5;241m!=\u001B[39m result2:\n",
      "\u001B[0;31mKeyboardInterrupt\u001B[0m: "
     ]
    }
   ],
   "source": [
    "import dfs_lower\n",
    "while C: #TODO: not sure if C decreases as this loop never stops computing\n",
    "    # Pick the Candidate target which has the highest value from the acquisition function\n",
    "    expected_improvement = acquisition_function.get_expected_improvement(input_domain, gp, acq_fun.history)\n",
    "    t_index = np.argmax(expected_improvement)\n",
    "    t = input_domain[t_index]\n",
    "\n",
    "    # Remove t from C\n",
    "    C = np.delete(C, np.where(np.all(C == t)))\n",
    "\n",
    "    # Inner-loop approach with DFS guided by the lower-bounds computed from the single-objective value iteration\n",
    "    p_s, val_p_s, new_U = dfs_lower.dfs_lower(G, S, T, t, U, max_iter=1000)\n",
    "    U = new_U\n",
    "\n",
    "    # If v^p_s improves in the target region\n",
    "    if np.any(np.greater(val_p_s, U)):\n",
    "        P = P.append(p_s)\n",
    "\n",
    "        # Compare p^s to p^∗ and add comparison to the GP ▷ User ranking, i.e., is the new path preferred to the current, maximum one?\n",
    "        compare_ps_pstar.append(np.array([val_p_s, val_vector_p_star]))\n",
    "        ranking_new_paths = user_preference.get_preference(compare_ps_pstar, add_noise=add_noise)\n",
    "\n",
    "        # Add the comparisons to the GP\n",
    "        comparisons.add_single_comparison(compare_ps_pstar[np.argmax(ranking_new_paths)], compare_ps_pstar[np.argmin(ranking_new_paths)])\n",
    "        gp.update(comparisons)\n",
    "\n",
    "        # if u(v^{p^s}) > u(v^{p^*}) then\n",
    "        u_v_p_s, _ = gp.get_predictive_params(val_p_s, True)  # The maximum a posteriori (MAP) estimate is the mean from gaussian_process.get_predictive_params()\n",
    "        u_v_p_star, _ = gp.get_predictive_params(val_vector_p_star, True)\n",
    "\n",
    "        if u_v_p_s > u_v_p_star:\n",
    "            # p^∗ ← p^s\n",
    "            p_star = p_s\n",
    "\n",
    "        # Compute new candidate targets based on v^{p^s} and add to C\n",
    "        new_C = [min(val_p_s[0][0], val_p_s[1][0]), min(val_p_s[0][1], val_p_s[1][1])]\n",
    "        C = np.append(new_C)\n",
    "\n",
    "print(f\"Path {p_star} with cost {val_vector_p_star}\")\n"
   ],
   "metadata": {
    "collapsed": false
   }
  },
  {
   "cell_type": "code",
   "execution_count": 24,
   "outputs": [
    {
     "name": "stdout",
     "output_type": "stream",
     "text": [
      "Path [(122245.37633330293, 486126.8581684635), (122254.86602688645, 486129.80052856216), (122264.35426393585, 486132.74411788705), (122273.84081337851, 486135.69101398275), (122283.19823912054, 486138.9678026403), (122284.1816391946, 486139.19731384714), (122290.12705889999, 486148.4950394649), (122296.3898333376, 486151.2069021054), (122293.35529070727, 486160.70100324217), (122290.30564961619, 486170.1963395323), (122289.24584929895, 486173.25169782597), (122284.2947638598, 486179.51092348614), (122286.01308887315, 486183.8814735307), (122282.69556966702, 486193.2948693236), (122279.36739295325, 486202.70485648955), (122276.034562429, 486212.11332275654), (122274.00277185065, 486217.2508821529), (122271.878266905, 486221.2167929504), (122262.38569380266, 486218.13414513733), (122254.26477155345, 486215.7695028797), (122253.09793657108, 486219.18429932056), (122246.77932030056, 486223.5791244763)] with cost [array([165.21,   2.  ])]\n"
     ]
    }
   ],
   "source": [
    "# Pick the Candidate target which has the highest value from the acquisition function\n",
    "expected_improvement = acquisition_function.get_expected_improvement(input_domain, gp, acq_fun.history)\n",
    "t_index = np.argmax(expected_improvement)\n",
    "t = input_domain[t_index]\n",
    "\n",
    "# Remove t from C\n",
    "C = np.delete(C, np.where(np.all(C == t)))\n",
    "\n",
    "# Inner-loop approach with DFS guided by the lower-bounds computed from the single-objective value iteration\n",
    "p_s, val_p_s, new_U = dfs_lower.dfs_lower(G, S, T, t, U, max_iter=1000)\n",
    "U = new_U\n",
    "\n",
    "# If v^p_s improves in the target region\n",
    "if np.any(np.greater(val_p_s, U)):\n",
    "    P = P.append(p_s)\n",
    "\n",
    "    # Compare p^s to p^∗ and add comparison to the GP ▷ User ranking, i.e., is the new path preferred to the current, maximum one?\n",
    "    compare_ps_pstar.append(np.array([val_p_s, val_vector_p_star]))\n",
    "    ranking_new_paths = user_preference.get_preference(compare_ps_pstar, add_noise=add_noise)\n",
    "\n",
    "    # Add the comparisons to the GP\n",
    "    comparisons.add_single_comparison(compare_ps_pstar[np.argmax(ranking_new_paths)], compare_ps_pstar[np.argmin(ranking_new_paths)])\n",
    "    gp.update(comparisons)\n",
    "\n",
    "    # if u(v^{p^s}) > u(v^{p^*}) then\n",
    "    u_v_p_s, _ = gp.get_predictive_params(val_p_s, True)  # The maximum a posteriori (MAP) estimate is the mean from gaussian_process.get_predictive_params()\n",
    "    u_v_p_star, _ = gp.get_predictive_params(val_vector_p_star, True)\n",
    "\n",
    "    if u_v_p_s > u_v_p_star:\n",
    "        # p^∗ ← p^s\n",
    "        p_star = p_s\n",
    "\n",
    "    # Compute new candidate targets based on v^{p^s} and add to C\n",
    "    new_C = [min(val_p_s[0][0], val_p_s[1][0]), min(val_p_s[0][1], val_p_s[1][1])]\n",
    "    C = np.append(new_C)\n",
    "\n",
    "print(f\"Path {p_star} with cost {val_vector_p_star}\")"
   ],
   "metadata": {
    "collapsed": false
   }
  },
  {
   "cell_type": "code",
   "execution_count": 8,
   "outputs": [],
   "source": [
    "# Initialise the Gaussian process for 2 objectives\n",
    "gp = gaussian_process.GPPairwise(num_objectives=2, std_noise=0.01, kernel_width=0.15,prior_mean_type='zero', seed=None)"
   ],
   "metadata": {
    "collapsed": false
   }
  },
  {
   "cell_type": "code",
   "execution_count": 9,
   "outputs": [],
   "source": [
    "P = [] #Pareto set\n",
    "p = [] #paths computed by Dijkstra's algorithm\n",
    "val_vector_p = [] #value vectors w.r.t. p, i.e., v^{p_1}, v^{p_2}\n",
    "\n",
    "# Path initialisation\n",
    "for i in objectives:\n",
    "    p = nx.shortest_path(G, source=S, target=T, weight=i, method='dijkstra') #Dijkstra's algorithm\n",
    "    P.append(p)\n",
    "\n",
    "    val_obj1 = nx.path_weight(G, path=p, weight='length') #Returns total cost associated with the path and weight. In other words, it returns the value of the path.\n",
    "    val_obj2 = nx.path_weight(G, path=p, weight='crossing')\n",
    "    val_vector_p.append(np.array([val_obj1, val_obj2]))"
   ],
   "metadata": {
    "collapsed": false
   }
  },
  {
   "cell_type": "code",
   "execution_count": 10,
   "outputs": [
    {
     "data": {
      "text/plain": "[array([165.21,   2.  ]), array([227.59,   2.  ])]"
     },
     "execution_count": 10,
     "metadata": {},
     "output_type": "execute_result"
    }
   ],
   "source": [
    "val_vector_p"
   ],
   "metadata": {
    "collapsed": false
   }
  },
  {
   "cell_type": "code",
   "execution_count": 11,
   "outputs": [
    {
     "data": {
      "text/plain": "[array([165.21,   2.  ])]"
     },
     "execution_count": 11,
     "metadata": {},
     "output_type": "execute_result"
    }
   ],
   "source": [
    "#Candidate Targets, i.e., the most optimistic points\n",
    "C = [min(val_vector_p[0][0], val_vector_p[1][0]), min(val_vector_p[0][1], val_vector_p[1][1])]\n",
    "C = [np.array(C)]\n",
    "C"
   ],
   "metadata": {
    "collapsed": false
   }
  },
  {
   "cell_type": "code",
   "execution_count": 12,
   "outputs": [
    {
     "data": {
      "text/plain": "[227.59000000000003, 2.0]"
     },
     "execution_count": 12,
     "metadata": {},
     "output_type": "execute_result"
    }
   ],
   "source": [
    "# The most pessimistic points form the upper bounds\n",
    "U = [max(val_vector_p[0][0], val_vector_p[1][0]), max(val_vector_p[0][1], val_vector_p[1][1])]\n",
    "U"
   ],
   "metadata": {
    "collapsed": false
   }
  },
  {
   "cell_type": "code",
   "execution_count": 13,
   "outputs": [],
   "source": [
    "# User ranking: Compare paths in P\n",
    "user_preference = utils_user.UserPreference(num_objectives=2, std_noise=0.1)"
   ],
   "metadata": {
    "collapsed": false
   }
  },
  {
   "cell_type": "code",
   "execution_count": 14,
   "outputs": [
    {
     "name": "stdout",
     "output_type": "stream",
     "text": [
      "[302.46783105 302.47351387]\n"
     ]
    },
    {
     "name": "stderr",
     "output_type": "stream",
     "text": [
      "/Users/alisatodorova/Desktop/Thesis/Interactive-MOPPA/lmzintgraf_gp_pref_elicit/gp_utilities/utils_user.py:254: RuntimeWarning: overflow encountered in exp\n",
      "  y += 1. / (1 + np.exp(- x * (a-i) + (b+i)))\n"
     ]
    }
   ],
   "source": [
    "add_noise = True\n",
    "ground_utility = user_preference.get_preference(val_vector_p, add_noise=add_noise) #This is the ground-truth utility, i.e., the true utility\n",
    "print(ground_utility)"
   ],
   "metadata": {
    "collapsed": false
   }
  },
  {
   "cell_type": "code",
   "execution_count": 15,
   "outputs": [
    {
     "name": "stdout",
     "output_type": "stream",
     "text": [
      "[[227.59   2.  ]\n",
      " [165.21   2.  ]]\n"
     ]
    }
   ],
   "source": [
    "# Add the comparisons to GP\n",
    "comparisons = dataset.DatasetPairwise(num_objectives=2)\n",
    "\n",
    "comparisons.add_single_comparison(val_vector_p[np.argmax(ground_utility)], val_vector_p[np.argmin(ground_utility)]) #This way we are performing user ranking of their preferences\n",
    "print(comparisons.datapoints)\n",
    "gp.update(comparisons)"
   ],
   "metadata": {
    "collapsed": false
   }
  },
  {
   "cell_type": "code",
   "execution_count": 16,
   "outputs": [
    {
     "name": "stdout",
     "output_type": "stream",
     "text": [
      "[-0.02560542  0.02560542]\n"
     ]
    }
   ],
   "source": [
    "# Find the path the user likes best and has the maximum a posteriori (MAP) estimate\n",
    "u_v, _ = gp.get_predictive_params(val_vector_p, True) #The maximum a posteriori (MAP) estimate is the mean from gaussian_process.get_predictive_params()\n",
    "print(u_v)"
   ],
   "metadata": {
    "collapsed": false
   }
  },
  {
   "cell_type": "code",
   "execution_count": 17,
   "outputs": [
    {
     "data": {
      "text/plain": "1"
     },
     "execution_count": 17,
     "metadata": {},
     "output_type": "execute_result"
    }
   ],
   "source": [
    "p_star_index = np.argmax(u_v)\n",
    "p_star_index"
   ],
   "metadata": {
    "collapsed": false
   }
  },
  {
   "cell_type": "code",
   "execution_count": 18,
   "outputs": [
    {
     "data": {
      "text/plain": "[(122245.37633330293, 486126.8581684635),\n (122254.86602688645, 486129.80052856216),\n (122264.35426393585, 486132.74411788705),\n (122273.84081337851, 486135.69101398275),\n (122283.19823912054, 486138.9678026403),\n (122284.1816391946, 486139.19731384714),\n (122287.28805009159, 486137.97386694513),\n (122291.40829399273, 486140.643590483),\n (122297.7854183222, 486139.47700177913),\n (122332.49987764945, 486160.7773385103),\n (122328.7127865793, 486160.19348477497),\n (122324.68334361241, 486169.2581765358),\n (122320.97320132754, 486178.5199137332),\n (122319.70610252809, 486181.6875618371),\n (122286.01308887315, 486183.8814735307),\n (122282.69556966702, 486193.2948693236),\n (122279.36739295325, 486202.70485648955),\n (122276.034562429, 486212.11332275654),\n (122274.00277185065, 486217.2508821529),\n (122271.878266905, 486221.2167929504),\n (122262.38569380266, 486218.13414513733),\n (122254.26477155345, 486215.7695028797),\n (122253.09793657108, 486219.18429932056),\n (122246.77932030056, 486223.5791244763)]"
     },
     "execution_count": 18,
     "metadata": {},
     "output_type": "execute_result"
    }
   ],
   "source": [
    "p_star = P[p_star_index]\n",
    "p_star"
   ],
   "metadata": {
    "collapsed": false
   }
  },
  {
   "cell_type": "code",
   "execution_count": 19,
   "outputs": [
    {
     "name": "stdout",
     "output_type": "stream",
     "text": [
      "[[165.21   2.  ]]\n"
     ]
    }
   ],
   "source": [
    "input_domain = np.array(C) #set of candidate targets\n",
    "print(input_domain)"
   ],
   "metadata": {
    "collapsed": false
   }
  },
  {
   "cell_type": "code",
   "execution_count": null,
   "outputs": [],
   "source": [
    "# Initialise the acquisition function\n",
    "acq_fun = acquisition_function.DiscreteAcquirer(input_domain=input_domain, query_type='ranking', seed=123, acquisition_type='expected improvement')"
   ],
   "metadata": {
    "collapsed": false
   }
  },
  {
   "cell_type": "code",
   "execution_count": null,
   "outputs": [],
   "source": [
    "# TODO: The next code cells are in a while-loop\n",
    "# while C:\n",
    "#     expected_improvement = acquisition_function.get_expected_improvement(input_domain, gp, acq_fun.history)\n",
    "#     t_index = np.argmax(expected_improvement)\n",
    "#     t = C[t_index]\n",
    "#     C.remove(t)\n",
    "#\n",
    "# # t_index\n",
    "# print(t)"
   ],
   "metadata": {
    "collapsed": false
   }
  },
  {
   "cell_type": "code",
   "execution_count": null,
   "outputs": [],
   "source": [
    "expected_improvement = acquisition_function.get_expected_improvement(input_domain, gp, acq_fun.history)\n",
    "print(expected_improvement)"
   ],
   "metadata": {
    "collapsed": false
   }
  },
  {
   "cell_type": "code",
   "execution_count": null,
   "outputs": [],
   "source": [
    "t_index = np.argmax(expected_improvement)\n",
    "t_index"
   ],
   "metadata": {
    "collapsed": false
   }
  },
  {
   "cell_type": "code",
   "execution_count": null,
   "outputs": [],
   "source": [
    "t = input_domain[t_index]\n",
    "print(t)"
   ],
   "metadata": {
    "collapsed": false
   }
  },
  {
   "cell_type": "code",
   "execution_count": null,
   "outputs": [],
   "source": [
    "# Remove t from C\n",
    "C = np.delete(C, np.where(np.all(C == t)))\n",
    "print(C)"
   ],
   "metadata": {
    "collapsed": false
   }
  },
  {
   "cell_type": "code",
   "execution_count": null,
   "outputs": [],
   "source": [
    "v_n = {}\n",
    "threshold=1e-8\n",
    "max_iter=1000\n",
    "obj = 'length'\n",
    "next_node = {}\n",
    "edge_cost = []\n",
    "\n",
    "for n in G:\n",
    "    v_n[n] = np.inf\n",
    "    if n == T:\n",
    "        v_n[n] = 0\n",
    "\n",
    "for i in range(max_iter): #or until convergence\n",
    "\n",
    "    converged = True\n",
    "\n",
    "    # print(\"iteration:\", i)\n",
    "    for e in G.edges(data=True):\n",
    "        n1, n2 = e[0], e[1]\n",
    "        # if v_n[n1] != np.inf or v_n[n2] != np.inf:\n",
    "        #     print(e[0], e[1], \":\", v_n[n1], v_n[n2])\n",
    "\n",
    "        # print(n2 in G)\n",
    "        cost = e[2][obj]\n",
    "        edge_cost.append(cost)\n",
    "        # print(cost)\n",
    "\n",
    "            # print(e)\n",
    "        result1 = min(cost + v_n[n2], v_n[n1])\n",
    "        result2 = min(cost + v_n[n1], v_n[n2])\n",
    "            # print(\"result1:\", result1, \"sum1:\", cost + v_n[n2])\n",
    "            # print(\"result2\", result2, \"sum2:\", cost + v_n[n1])\n",
    "        if v_n[n1] != result1 or v_n[n2] != result2:\n",
    "            converged = False\n",
    "\n",
    "        if v_n[n1] != result1:\n",
    "            next_node[n1] = n2\n",
    "\n",
    "        if v_n[n2] != result2:\n",
    "            next_node[n2] = n1\n",
    "\n",
    "        v_n[n1] = result1\n",
    "        v_n[n2] = result2\n",
    "\n",
    "        # if n1 == T or n2==T:\n",
    "        #     # print(result1, result2)\n",
    "        #     print(v_n[n1], v_n[n2])\n",
    "\n",
    "\n",
    "    # converged = all(n in v_n_copy and abs(v_n[n] - v_n_copy[n]) < threshold for n in v_n)\n",
    "    if converged:\n",
    "        break\n",
    "\n",
    "\n",
    "        # if v_n[n1] != np.inf:\n",
    "        #     print(n1,v_n[n1])\n",
    "        # if v_n[n2] != np.inf:\n",
    "        #     print(n2,v_n[n2])\n",
    "\n",
    "print(v_n)\n",
    "# print(next_node)\n",
    "\n",
    "# S = (122245.37633330293, 486126.8581684635)\n",
    "# T = (122246.77932030056, 486223.5791244763)"
   ],
   "metadata": {
    "collapsed": false
   }
  },
  {
   "cell_type": "code",
   "execution_count": null,
   "outputs": [],
   "source": [
    "import single_vi_iter\n",
    "# lower_bounds = []\n",
    "# next_nodes = []\n",
    "\n",
    "lower_length = single_vi_iter.single_value_iter(G, T, 'length')\n",
    "lower_crossing = single_vi_iter.single_value_iter(G, T, 'crossing')\n",
    "# next_nodes.append(np.array([next_node_length, next_node_crossing]))\n",
    "# print(\"NEXT:\", next_node_crossing)\n",
    "\n",
    "# lower_bounds.append(np.array([lower_length, lower_crossing]))\n",
    "# lower_bounds\n",
    "\n",
    "#crossing: (122246.10058319086, 486224.512771215): (122246.77932030056, 486223.5791244763)"
   ],
   "metadata": {
    "collapsed": false
   }
  },
  {
   "cell_type": "code",
   "execution_count": null,
   "outputs": [],
   "source": [
    "i = 0  # track iterations of the algorithm\n",
    "max_iter = 1000\n",
    "\n",
    "cost_history = np.array([0,0]) # What we've already seen\n",
    "\n",
    "stack = [(S, cost_history, [S])]  # (starting node, cost so far, path), where cost_history is from previous_state to S, path is from S to current_state (i.e., S)\n",
    "\n",
    "# r1 = 0 # Result from objective length\n",
    "# r2 = 0 # Result from objective crossing\n",
    "result = [] # The new lower bound\n",
    "\n",
    "# min_distance = np.inf\n",
    "# closest_node = None\n",
    "# val_vector_path = []\n",
    "\n",
    "\n",
    "while stack:\n",
    "    current_node, current_cost, path = stack.pop()  # current_cost=total cost up to the current_node\n",
    "\n",
    "    if current_node == T:\n",
    "        U = current_cost\n",
    "        print(f\"Path {path} with cost {current_cost}\")\n",
    "\n",
    "    neighbor_list = []\n",
    "\n",
    "    for neighbor in G.neighbors(current_node):\n",
    "        edge = G[current_node][neighbor]\n",
    "        list = [v for k, v in edge.items()]\n",
    "        # print(edge)\n",
    "        cost = np.array([list[0]['length'], list[0]['crossing']])\n",
    "\n",
    "        result = current_cost + cost + np.array([lower_length[neighbor], lower_crossing[neighbor]]) # This is the new lower bound\n",
    "        # print(result)\n",
    "\n",
    "        # Pruning paths that won't be Pareto-better compared to the current upper bound\n",
    "        if np.any(np.greater(result, U)): # If it's outside of target region, ignore it\n",
    "            continue\n",
    "\n",
    "        distance = np.sum(np.abs(t - result)) # Manhattan distance\n",
    "\n",
    "        neighbor_list.append((neighbor, distance, (current_cost + cost)))\n",
    "\n",
    "\n",
    "    neighbor_list.sort(key=lambda x:x[1], reverse=True)\n",
    "    for n in neighbor_list:\n",
    "        path_copy = path.copy()\n",
    "        path_copy.append(n[0])\n",
    "        stack.append((n[0], n[2], path_copy))\n",
    "\n",
    "    i += 1\n",
    "    if max_iter is not None and i >= max_iter:\n",
    "        print(\"The algorithm has reached the given maximum iterations, but has found no solution.\")\n",
    "        break\n",
    "\n",
    "# S = (122245.37633330293, 486126.8581684635)\n",
    "# T = (122246.77932030056, 486223.5791244763)\n",
    "# t = [165.21   2.  ]"
   ],
   "metadata": {
    "collapsed": false
   }
  },
  {
   "cell_type": "code",
   "execution_count": null,
   "outputs": [],
   "source": [
    "p_s = path\n"
   ],
   "metadata": {
    "collapsed": false
   }
  },
  {
   "cell_type": "code",
   "execution_count": null,
   "outputs": [],
   "source": [
    "# If v^p_s improves in the target region\n",
    "\n",
    "# val_vector_p_s = []\n",
    "# val_p_s1 = nx.path_weight(G, path=p_s, weight='length')\n",
    "# val_p_s2 = nx.path_weight(G, path=p_s, weight='crossing')\n",
    "# val_vector_p_s.append(np.array([val_p_s1, val_p_s2]))\n",
    "# if val_p_s1 < U[0] and val_p_s2 < U[1]:\n",
    "if np.any(np.greater(current_cost, U)):\n",
    "    P = P.append(p_s)\n",
    "\n",
    "    #Compare p^s to p^∗ and add comparison to the GP ▷User ranking, i.e., is the new path preferred to the current, maximum one?\n",
    "    compare_ps_pstar = []\n",
    "    val_vector_p_star = []\n",
    "\n",
    "    val_p_star1 = nx.path_weight(G, path=p_star, weight='length')\n",
    "    val_p_star2 = nx.path_weight(G, path=p_star, weight='crossing')\n",
    "    val_vector_p_star.append(np.array([val_p_star1, val_p_star2]))\n",
    "\n",
    "    compare_ps_pstar.append(np.array([current_cost, val_vector_p_star]))\n",
    "\n",
    "    ranking_new_paths = user_preference.get_preference(compare_ps_pstar, add_noise=add_noise)\n",
    "    print(ranking_new_paths)\n",
    "\n",
    "    # Add the comparisons to GP\n",
    "    comparisons.add_single_comparison(compare_ps_pstar[np.argmax(ranking_new_paths)], compare_ps_pstar[np.argmin(ranking_new_paths)])  #This way we are performing user ranking of their preferences\n",
    "    # print(comparisons.datapoints)\n",
    "    gp.update(comparisons)\n",
    "\n",
    "    u_v_p_s, _ = gp.get_predictive_params(current_cost, True)  #The maximum a posteriori (MAP) estimate is the mean from gaussian_process.get_predictive_params()\n",
    "    u_v_p_star, _ = gp.get_predictive_params(val_vector_p_star, True)\n",
    "\n",
    "    # if u(v^{p^s}) > u(v^{p^*}) then\n",
    "    if current_cost > val_vector_p_star:\n",
    "        #p^∗ ← p^s\n",
    "        p_star = p_s\n",
    "\n",
    "    # Compute new candidate targets based on v^{p^s} and add to C\n",
    "    new_C = [min(current_cost[0][0], current_cost[1][0]), min(current_cost[0][1], current_cost[1][1])]\n",
    "    C = np.append(new_C)\n",
    "print(f\"P_star: {p_star} with cost {val_vector_p_star}\")\n"
   ],
   "metadata": {
    "collapsed": false
   }
  },
  {
   "cell_type": "code",
   "execution_count": null,
   "outputs": [],
   "source": [],
   "metadata": {
    "collapsed": false
   }
  }
 ],
 "metadata": {
  "kernelspec": {
   "display_name": "Python 3",
   "language": "python",
   "name": "python3"
  },
  "language_info": {
   "codemirror_mode": {
    "name": "ipython",
    "version": 2
   },
   "file_extension": ".py",
   "mimetype": "text/x-python",
   "name": "python",
   "nbconvert_exporter": "python",
   "pygments_lexer": "ipython2",
   "version": "2.7.6"
  }
 },
 "nbformat": 4,
 "nbformat_minor": 0
}
