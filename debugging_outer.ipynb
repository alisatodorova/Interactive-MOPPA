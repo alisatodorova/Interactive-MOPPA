{
 "cells": [
  {
   "cell_type": "code",
   "execution_count": 1,
   "outputs": [],
   "source": [
    "# Import libraries\n",
    "import numpy as np\n",
    "import geopandas as gpd\n",
    "import momepy\n",
    "import networkx as nx\n",
    "# import pandas as pd\n",
    "# import shapely\n",
    "# import shapely.geometry as sg\n",
    "# import matplotlib\n",
    "# import matplotlib.pyplot as plt\n",
    "# %matplotlib inline\n",
    "\n",
    "from lmzintgraf_gp_pref_elicit import dataset, gaussian_process, acquisition_function\n",
    "from lmzintgraf_gp_pref_elicit.gp_utilities import utils_ccs as utils_ccs\n",
    "from lmzintgraf_gp_pref_elicit.gp_utilities import utils_data as utils_data\n",
    "from lmzintgraf_gp_pref_elicit.gp_utilities import utils_experiment as utils_experiment\n",
    "from lmzintgraf_gp_pref_elicit.gp_utilities import utils_parameters as utils_parameters\n",
    "from lmzintgraf_gp_pref_elicit.gp_utilities import utils_user as utils_user"
   ],
   "metadata": {
    "collapsed": false
   }
  },
  {
   "cell_type": "code",
   "execution_count": 2,
   "outputs": [],
   "source": [
    "map = gpd.read_file(\"Sidewalk_width_crossings_small.geojson\") #Read in the map with radius 250m and ~1000 nodes\n",
    "\n",
    "# Objectives\n",
    "objective1 = map['length']\n",
    "objective2 = map['crossing']\n",
    "objective3 = map['obstacle_free_width']\n",
    "\n",
    "objectives = ('length', 'crossing')"
   ],
   "metadata": {
    "collapsed": false
   }
  },
  {
   "cell_type": "code",
   "execution_count": 3,
   "outputs": [
    {
     "name": "stderr",
     "output_type": "stream",
     "text": [
      "/usr/local/anaconda3/envs/test/lib/python3.10/site-packages/momepy/utils.py:252: UserWarning: Geometry is in a geographic CRS. Results from 'length' are likely incorrect. Use 'GeoSeries.to_crs()' to re-project geometries to a projected CRS before this operation.\n",
      "\n",
      "  gdf_network[length] = gdf_network.geometry.length\n"
     ]
    }
   ],
   "source": [
    "# Create a NetworkX graph from the map\n",
    "G = momepy.gdf_to_nx(map, approach='primal')\n",
    "nodes = G.nodes\n",
    "edges = G.edges"
   ],
   "metadata": {
    "collapsed": false
   }
  },
  {
   "cell_type": "code",
   "execution_count": 4,
   "outputs": [],
   "source": [
    "# print(nodes)"
   ],
   "metadata": {
    "collapsed": false
   }
  },
  {
   "cell_type": "code",
   "execution_count": 5,
   "outputs": [],
   "source": [
    "#Pick random ones or pick manually that make sense - to experiment\n",
    "S = (120548.6120283842, 486088.19577846595)\n",
    "T = (120798.0893320718, 486128.7633437495)"
   ],
   "metadata": {
    "collapsed": false
   }
  },
  {
   "cell_type": "code",
   "execution_count": 6,
   "outputs": [],
   "source": [
    "# Initialise the Gaussian process for 2 objectives\n",
    "gp = gaussian_process.GPPairwise(num_objectives=2, std_noise=0.01, kernel_width=0.15,prior_mean_type='zero', seed=None)"
   ],
   "metadata": {
    "collapsed": false
   }
  },
  {
   "cell_type": "code",
   "execution_count": 7,
   "outputs": [],
   "source": [
    "P = [] #Pareto set\n",
    "p = [] #paths computed by Dijkstra's algorithm\n",
    "val_vector_p = [] #value vectors w.r.t. p, i.e., v^{p_1}, v^{p_2}\n",
    "\n",
    "# Path initialisation\n",
    "for i in objectives:\n",
    "    p = nx.shortest_path(G, source=S, target=T, weight=i, method='dijkstra') #Dijkstra's algorithm\n",
    "    P.append(p)\n",
    "\n",
    "    val_obj1 = nx.path_weight(G, path=p, weight='length') #Returns total cost associated with the path and weight. In other words, it returns the value of the path.\n",
    "    val_obj2 = nx.path_weight(G, path=p, weight='crossing')\n",
    "    val_vector_p.append(np.array([val_obj1, val_obj2]))"
   ],
   "metadata": {
    "collapsed": false
   }
  },
  {
   "cell_type": "code",
   "execution_count": 8,
   "outputs": [
    {
     "data": {
      "text/plain": "[array([671.64,   3.  ]), array([674.81,   3.  ])]"
     },
     "execution_count": 8,
     "metadata": {},
     "output_type": "execute_result"
    }
   ],
   "source": [
    "val_vector_p"
   ],
   "metadata": {
    "collapsed": false
   }
  },
  {
   "cell_type": "code",
   "execution_count": 9,
   "outputs": [
    {
     "data": {
      "text/plain": "[671.6400000000003, 3.0]"
     },
     "execution_count": 9,
     "metadata": {},
     "output_type": "execute_result"
    }
   ],
   "source": [
    "C = [min(val_vector_p[0][0], val_vector_p[1][0]), min(val_vector_p[0][1], val_vector_p[1][1])] #Candidate Targets, i.e., the most optimistic points\n",
    "C"
   ],
   "metadata": {
    "collapsed": false
   }
  },
  {
   "cell_type": "code",
   "execution_count": 10,
   "outputs": [],
   "source": [
    "# User ranking: Compare paths in P\n",
    "user_preference = utils_user.UserPreference(num_objectives=2, std_noise=0.1)"
   ],
   "metadata": {
    "collapsed": false
   }
  },
  {
   "cell_type": "code",
   "execution_count": 37,
   "outputs": [
    {
     "name": "stdout",
     "output_type": "stream",
     "text": [
      "[9.94926943 9.92848816]\n"
     ]
    }
   ],
   "source": [
    "add_noise = True\n",
    "ground_utility = user_preference.get_preference(val_vector_p, add_noise=add_noise) #This is the ground-truth utility, i.e., the true utility\n",
    "print(ground_utility)"
   ],
   "metadata": {
    "collapsed": false
   }
  },
  {
   "cell_type": "code",
   "execution_count": 38,
   "outputs": [
    {
     "name": "stdout",
     "output_type": "stream",
     "text": [
      "[[671.64   3.  ]\n",
      " [674.81   3.  ]]\n"
     ]
    }
   ],
   "source": [
    "# Add the comparisons to GP\n",
    "comparisons = dataset.DatasetPairwise(num_objectives=2)\n",
    "\n",
    "comparisons.add_single_comparison(val_vector_p[np.argmax(ground_utility)], val_vector_p[np.argmin(ground_utility)]) #This way we are performing user ranking of their preferences\n",
    "print(comparisons.datapoints)\n",
    "gp.update(comparisons)"
   ],
   "metadata": {
    "collapsed": false
   }
  },
  {
   "cell_type": "code",
   "execution_count": 40,
   "outputs": [
    {
     "name": "stdout",
     "output_type": "stream",
     "text": [
      "[ 0.02560527 -0.02560527]\n"
     ]
    }
   ],
   "source": [
    "# Find the path the user likes best and has the maximum a posteriori (MAP) estimate\n",
    "u_v, _ = gp.get_predictive_params(val_vector_p, True) #The maximum a posteriori (MAP) estimate is the mean from gaussian_process.get_predictive_params()\n",
    "print(u_v)"
   ],
   "metadata": {
    "collapsed": false
   }
  },
  {
   "cell_type": "code",
   "execution_count": 41,
   "outputs": [
    {
     "data": {
      "text/plain": "0"
     },
     "execution_count": 41,
     "metadata": {},
     "output_type": "execute_result"
    }
   ],
   "source": [
    "p_star_index = np.argmax(u_v)\n",
    "p_star_index"
   ],
   "metadata": {
    "collapsed": false
   }
  },
  {
   "cell_type": "code",
   "execution_count": 42,
   "outputs": [
    {
     "data": {
      "text/plain": "[(120548.6120283842, 486088.19577846595),\n (120558.58272730978, 486088.5913559315),\n (120562.22249291666, 486088.4604878346),\n (120597.87366172913, 486118.3885286597),\n (120603.94807229919, 486112.8244804511),\n (120610.1211584085, 486110.4734641692),\n (120615.236697444, 486109.4981894336),\n (120622.18953041689, 486108.8516084536),\n (120627.6055477486, 486108.80491815176),\n (120637.3711853829, 486107.4803808584),\n (120638.32762784461, 486107.6578267999),\n (120644.82334925648, 486107.55756407854),\n (120646.58367929762, 486107.4539825946),\n (120653.63177241654, 486106.9806947992),\n (120658.16234661153, 486106.63926980837),\n (120664.93105615664, 486106.10542439454),\n (120671.8192466126, 486105.5397502568),\n (120678.46251254133, 486104.92881432245),\n (120683.05468505199, 486104.3662392544),\n (120689.70658339545, 486103.4113373837),\n (120697.63022968677, 486102.02209520293),\n (120704.74846380341, 486100.38072378177),\n (120714.24315622302, 486097.30355140124),\n (120715.2451666701, 486096.9044174595),\n (120723.45147424788, 486093.31371892645),\n (120732.28222387133, 486088.6586133905),\n (120740.35952745186, 486082.80002435134),\n (120748.12552168974, 486076.51945506287),\n (120755.90254720696, 486070.25248984597),\n (120758.44598231604, 486068.18800174043),\n (120765.97029150797, 486062.35922031576),\n (120766.10740704507, 486061.9539256975),\n (120771.35328840272, 486058.1275067256),\n (120771.6622853306, 486057.5829410404),\n (120779.51371836223, 486051.90747940855),\n (120781.08307534966, 486050.6194103428),\n (120787.64182643614, 486043.5809663657),\n (120795.54601051655, 486037.51803371136),\n (120799.09605710814, 486034.6266168856),\n (120807.2181716607, 486028.93552289205),\n (120814.23837423263, 486021.93244352983),\n (120821.87951739444, 486015.5092936344),\n (120829.52048137614, 486009.08624344267),\n (120834.6696941918, 486004.84159887466),\n (120835.66990702497, 486003.9152995505),\n (120843.31118411716, 485997.4926519497),\n (120850.96830834278, 485991.0884505823),\n (120859.42118581099, 485985.9878539164),\n (120859.71396217168, 485986.0893162251),\n (120866.12904685896, 485988.49435470556),\n (120872.45377411606, 485996.1725911783),\n (120878.78097036443, 486003.85268588545),\n (120884.44908241076, 486011.8846160293),\n (120887.29455986137, 486017.1679222352),\n (120889.26502545792, 486020.10506146733),\n (120890.71305579736, 486029.9038074119),\n (120916.43844268429, 486032.00808347174),\n (120924.31795833913, 486025.9339021357),\n (120932.21318051024, 486019.88821153867),\n (120940.10968762715, 486013.85196466517),\n (120940.54319612944, 486023.31299072853),\n (120932.82717530674, 486029.62090299063),\n (120931.13469976776, 486031.14840417803),\n (120931.09747557256, 486031.1688084951),\n (120923.52853601528, 486037.62249296077),\n (120916.74014785666, 486044.4403504709),\n (120916.15962428096, 486046.6473573908),\n (120910.21887037392, 486049.5585536605),\n (120902.79487579037, 486053.66466665384),\n (120901.83164741054, 486053.4334428719),\n (120892.5678053373, 486055.4616469492),\n (120884.60163510396, 486061.41309044993),\n (120876.7456201285, 486067.5454262669),\n (120868.88886935895, 486073.6771070321),\n (120861.03241456187, 486079.80944860505),\n (120853.17065126348, 486085.9356844367),\n (120845.29529242407, 486092.04589852656),\n (120837.4297445204, 486098.166453618),\n (120829.56706288873, 486104.28996187396),\n (120821.6948715022, 486110.40312932216),\n (120813.84214059442, 486116.54604176414),\n (120805.94883469454, 486122.62960592774),\n (120798.0893320718, 486128.7633437495)]"
     },
     "execution_count": 42,
     "metadata": {},
     "output_type": "execute_result"
    }
   ],
   "source": [
    "p_star = P[p_star_index]\n",
    "p_star"
   ],
   "metadata": {
    "collapsed": false
   }
  },
  {
   "cell_type": "code",
   "execution_count": 47,
   "outputs": [
    {
     "name": "stdout",
     "output_type": "stream",
     "text": [
      "[[0.96437258 0.23727299]\n",
      " [0.63115621 0.85134756]\n",
      " [0.99846441 0.0564509 ]\n",
      " [0.11505206 0.99825729]\n",
      " [0.94036015 0.3278353 ]\n",
      " [0.         1.        ]\n",
      " [0.91954989 0.40080325]\n",
      " [0.26688587 0.95992014]\n",
      " [1.         0.        ]\n",
      " [0.76035816 0.7034629 ]\n",
      " [0.03835069 0.9994191 ]\n",
      " [0.07670137 0.99883819]\n",
      " [0.15301051 0.988673  ]\n",
      " [0.19096897 0.97908871]\n",
      " [0.22892742 0.96950442]\n",
      " [0.31241967 0.94634856]\n",
      " [0.35795346 0.93277699]\n",
      " [0.40348725 0.91920542]\n",
      " [0.44902104 0.90563385]\n",
      " [0.49455483 0.89206227]\n",
      " [0.54008863 0.8784907 ]\n",
      " [0.58562242 0.86491913]\n",
      " [0.67422352 0.80205267]\n",
      " [0.71729084 0.75275779]\n",
      " [0.78309983 0.66022581]\n",
      " [0.80584151 0.61698872]\n",
      " [0.82858319 0.57375162]\n",
      " [0.85132486 0.53051453]\n",
      " [0.87406654 0.48727744]\n",
      " [0.89680822 0.44404035]\n",
      " [0.92995502 0.36431928]\n",
      " [0.95236636 0.28255415]\n",
      " [0.97289553 0.19206747]\n",
      " [0.98141849 0.14686195]\n",
      " [0.98994145 0.10165643]\n",
      " [0.9992322  0.02822545]]\n"
     ]
    }
   ],
   "source": [
    "#TODO: No idea if this is correct.\n",
    "input_domain = utils_ccs.get_pcs_grid(ccs_size=10, num_objectives=2, eucledian_dist=0.005, min_size=10, seed=123)\n",
    "#Set eucledian_dist smaller to run the code faster\n",
    "#Setting ccs_size and min_size to the same value is probably also a good idea.\n",
    "print(input_domain)"
   ],
   "metadata": {
    "collapsed": false
   }
  },
  {
   "cell_type": "code",
   "execution_count": 55,
   "outputs": [],
   "source": [
    "# Initialise the acquisition function\n",
    "acq_fun = acquisition_function.DiscreteAcquirer(input_domain=input_domain, query_type='ranking', seed=123, acquisition_type='expected improvement')"
   ],
   "metadata": {
    "collapsed": false
   }
  },
  {
   "cell_type": "code",
   "execution_count": null,
   "outputs": [],
   "source": [
    "#TODO: The next code cells are in a while-loop\n",
    "# while C:"
   ],
   "metadata": {
    "collapsed": false
   }
  },
  {
   "cell_type": "code",
   "execution_count": 56,
   "outputs": [
    {
     "name": "stdout",
     "output_type": "stream",
     "text": [
      "[0.25035423 0.25035423 0.25035423 0.25035423 0.25035423 0.25035423\n",
      " 0.25035423 0.25035423 0.25035423 0.25035423 0.25035423 0.25035423\n",
      " 0.25035423 0.25035423 0.25035423 0.25035423 0.25035423 0.25035423\n",
      " 0.25035423 0.25035423 0.25035423 0.25035423 0.25035423 0.25035423\n",
      " 0.25035423 0.25035423 0.25035423 0.25035423 0.25035423 0.25035423\n",
      " 0.25035423 0.25035423 0.25035423 0.25035423 0.25035423 0.25035423]\n"
     ]
    }
   ],
   "source": [
    "expected_improvement = acquisition_function.get_expected_improvement(input_domain, gp, acq_fun.history)\n",
    "print(expected_improvement)"
   ],
   "metadata": {
    "collapsed": false
   }
  },
  {
   "cell_type": "code",
   "execution_count": 50,
   "outputs": [
    {
     "data": {
      "text/plain": "0"
     },
     "execution_count": 50,
     "metadata": {},
     "output_type": "execute_result"
    }
   ],
   "source": [
    "t_index = np.argmax(expected_improvement)\n",
    "t_index"
   ],
   "metadata": {
    "collapsed": false
   }
  },
  {
   "cell_type": "code",
   "execution_count": 57,
   "outputs": [
    {
     "data": {
      "text/plain": "671.6400000000003"
     },
     "execution_count": 57,
     "metadata": {},
     "output_type": "execute_result"
    }
   ],
   "source": [
    "t = C[t_index]\n",
    "t"
   ],
   "metadata": {
    "collapsed": false
   }
  },
  {
   "cell_type": "code",
   "execution_count": 58,
   "outputs": [
    {
     "data": {
      "text/plain": "[671.6400000000003, 3.0]"
     },
     "execution_count": 58,
     "metadata": {},
     "output_type": "execute_result"
    }
   ],
   "source": [
    "C"
   ],
   "metadata": {
    "collapsed": false
   }
  },
  {
   "cell_type": "code",
   "execution_count": 62,
   "outputs": [
    {
     "data": {
      "text/plain": "array([3.])"
     },
     "execution_count": 62,
     "metadata": {},
     "output_type": "execute_result"
    }
   ],
   "source": [
    "# Remove t from C\n",
    "C = C[C != t]\n",
    "C"
   ],
   "metadata": {
    "collapsed": false
   }
  },
  {
   "cell_type": "code",
   "execution_count": null,
   "outputs": [],
   "source": [
    "# Inner-loop approach\n",
    "# p_s = A(t, G, S, T) #TODO: I think I have forgotten to add the target in dfs_lower :'("
   ],
   "metadata": {
    "collapsed": false
   }
  },
  {
   "cell_type": "code",
   "execution_count": null,
   "outputs": [],
   "source": [
    "#TODO: Line 15 of pseudocode is unclear to me how it should be in code. Also, which is correct:\n",
    "# If v^p improves in the target region\n",
    "# because you've identified a new value vector on the PCS. If you stop once the utility no longer improves, I think this can result in stopping prematurely. Specifically, imagine you have a current partial Pareto front of (10,0) and (0,10) the user model u((10,0)) is the current best. The target vector is (10,10)  and when you run DFS, you get one of the possible vectors in the target region. You get (1,9) out of the the call to DFS, and the u((1,9)) < u((10,0)) even after querying the user about it. Now here, you shouldn't stop, because the true best - (7,3) for example, is still possible to find.\n",
    "#you're just not going to improve on that with a newly found vector\n",
    "#So improving on the acquisition function by identifying a new point is impossible as\n",
    "# 1) you were searching at an optimistic estimate (target), so the actually found value will be worse than the target\n",
    "# 2) finding new points, and querying the user reduces uncertainty"
   ],
   "metadata": {
    "collapsed": false
   }
  },
  {
   "cell_type": "code",
   "execution_count": null,
   "outputs": [],
   "source": [
    "# P = P.append(p_s)"
   ],
   "metadata": {
    "collapsed": false
   }
  },
  {
   "cell_type": "code",
   "execution_count": null,
   "outputs": [],
   "source": [
    "#TODO: More user ranking...\n",
    "#Compare p^s to p^∗ and add comparison to the GP ▷User ranking, i.e., is the new path preferred to the current, maximum one?\n",
    "\n",
    "val_vector_paths = [] #value vectors of paths p^s and p^∗\n",
    "\n",
    "val_p_s = nx.path_weight(G, path=p_s, weight='length') #TODO: weight is what?\n",
    "val_p_star = nx.path_weight(G, path=p_star, weight='crossing')\n",
    "\n",
    "val_vector_paths.append(np.array([val_p_s, val_p_star]))\n"
   ],
   "metadata": {
    "collapsed": false
   }
  },
  {
   "cell_type": "code",
   "execution_count": null,
   "outputs": [],
   "source": [
    "ranking_paths = user_preference.get_preference(val_vector_paths, add_noise=add_noise)\n",
    "print(ranking_paths)"
   ],
   "metadata": {
    "collapsed": false
   }
  },
  {
   "cell_type": "code",
   "execution_count": null,
   "outputs": [],
   "source": [
    "# Add the comparisons to GP\n",
    "comparisons.add_single_comparison(val_vector_paths[np.argmax(ranking_paths)], val_vector_paths[\n",
    "    np.argmin(ranking_paths)])  #This way we are performing user ranking of their preferences\n",
    "print(comparisons.datapoints)\n",
    "gp.update(comparisons)"
   ],
   "metadata": {
    "collapsed": false
   }
  },
  {
   "cell_type": "code",
   "execution_count": null,
   "outputs": [],
   "source": [
    "# if u(v^{p^s}) > u(v^{p^*}) then\n",
    "# p^∗ ← p^s\n",
    "# end if\n"
   ],
   "metadata": {
    "collapsed": false
   }
  },
  {
   "cell_type": "code",
   "execution_count": null,
   "outputs": [],
   "source": [
    "# Compute new candidate targets based on v^{p^s} and add to C\n"
   ],
   "metadata": {
    "collapsed": false
   }
  },
  {
   "cell_type": "code",
   "execution_count": null,
   "outputs": [],
   "source": [
    "# end if\n",
    "# end while\n",
    "# return p^∗, v^{p^*}\n"
   ],
   "metadata": {
    "collapsed": false
   }
  }
 ],
 "metadata": {
  "kernelspec": {
   "display_name": "Python 3",
   "language": "python",
   "name": "python3"
  },
  "language_info": {
   "codemirror_mode": {
    "name": "ipython",
    "version": 2
   },
   "file_extension": ".py",
   "mimetype": "text/x-python",
   "name": "python",
   "nbconvert_exporter": "python",
   "pygments_lexer": "ipython2",
   "version": "2.7.6"
  }
 },
 "nbformat": 4,
 "nbformat_minor": 0
}
