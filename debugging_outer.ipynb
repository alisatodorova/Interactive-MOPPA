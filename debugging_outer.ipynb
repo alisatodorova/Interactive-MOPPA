{
 "cells": [
  {
   "cell_type": "code",
   "execution_count": 1,
   "outputs": [],
   "source": [
    "# Import libraries\n",
    "import numpy as np\n",
    "import geopandas as gpd\n",
    "import momepy\n",
    "import networkx as nx\n",
    "# import pandas as pd\n",
    "# import shapely\n",
    "# import shapely.geometry as sg\n",
    "# import matplotlib\n",
    "# import matplotlib.pyplot as plt\n",
    "# %matplotlib inline\n",
    "\n",
    "from lmzintgraf_gp_pref_elicit import dataset, gaussian_process, acquisition_function\n",
    "from lmzintgraf_gp_pref_elicit.gp_utilities import utils_ccs as utils_ccs\n",
    "from lmzintgraf_gp_pref_elicit.gp_utilities import utils_data as utils_data\n",
    "from lmzintgraf_gp_pref_elicit.gp_utilities import utils_experiment as utils_experiment\n",
    "from lmzintgraf_gp_pref_elicit.gp_utilities import utils_parameters as utils_parameters\n",
    "from lmzintgraf_gp_pref_elicit.gp_utilities import utils_user as utils_user"
   ],
   "metadata": {
    "collapsed": false
   }
  },
  {
   "cell_type": "code",
   "execution_count": 2,
   "outputs": [],
   "source": [
    "map = gpd.read_file(\"Sidewalk_width_crossings_small.geojson\") #Read in the map with radius 250m and ~1000 nodes\n",
    "\n",
    "# Objectives\n",
    "objective1 = map['length']\n",
    "objective2 = map['crossing']\n",
    "objective3 = map['obstacle_free_width']\n",
    "\n",
    "objectives = ('length', 'crossings')"
   ],
   "metadata": {
    "collapsed": false
   }
  },
  {
   "cell_type": "code",
   "execution_count": 3,
   "outputs": [
    {
     "name": "stderr",
     "output_type": "stream",
     "text": [
      "/usr/local/anaconda3/envs/test/lib/python3.10/site-packages/momepy/utils.py:252: UserWarning: Geometry is in a geographic CRS. Results from 'length' are likely incorrect. Use 'GeoSeries.to_crs()' to re-project geometries to a projected CRS before this operation.\n",
      "\n",
      "  gdf_network[length] = gdf_network.geometry.length\n"
     ]
    }
   ],
   "source": [
    "# Create a NetworkX graph from the map\n",
    "G = momepy.gdf_to_nx(map, approach='primal')\n",
    "nodes = G.nodes\n",
    "edges = G.edges"
   ],
   "metadata": {
    "collapsed": false
   }
  },
  {
   "cell_type": "code",
   "execution_count": 4,
   "outputs": [],
   "source": [
    "# print(nodes)"
   ],
   "metadata": {
    "collapsed": false
   }
  },
  {
   "cell_type": "code",
   "execution_count": 5,
   "outputs": [],
   "source": [
    "#Pick random ones or pick manually that make sense - to experiment\n",
    "S = (120548.6120283842, 486088.19577846595)\n",
    "T = (120798.0893320718, 486128.7633437495)"
   ],
   "metadata": {
    "collapsed": false
   }
  },
  {
   "cell_type": "code",
   "execution_count": 6,
   "outputs": [],
   "source": [
    "# Initialise the Gaussian process for 2 objectives\n",
    "gp = gaussian_process.GPPairwise(num_objectives=2, std_noise=0.01, kernel_width=0.15,prior_mean_type='zero', seed=None)"
   ],
   "metadata": {
    "collapsed": false
   }
  },
  {
   "cell_type": "code",
   "execution_count": 7,
   "outputs": [],
   "source": [
    "P = [] #Pareto set\n",
    "p = []\n",
    "\n",
    "# Path initialisation\n",
    "for i in objectives:\n",
    "    p = nx.shortest_path(G, source=S, target=T, weight=i, method='dijkstra') #Dijkstra algorithm\n",
    "    P.append(p)"
   ],
   "metadata": {
    "collapsed": false
   }
  },
  {
   "cell_type": "code",
   "execution_count": 8,
   "outputs": [
    {
     "data": {
      "text/plain": "[(120548.6120283842, 486088.19577846595),\n (120558.58272730978, 486088.5913559315),\n (120562.22249291666, 486088.4604878346),\n (120597.87366172913, 486118.3885286597),\n (120603.94807229919, 486112.8244804511),\n (120610.1211584085, 486110.4734641692),\n (120615.236697444, 486109.4981894336),\n (120622.18953041689, 486108.8516084536),\n (120627.6055477486, 486108.80491815176),\n (120637.3711853829, 486107.4803808584),\n (120638.32762784461, 486107.6578267999),\n (120644.82334925648, 486107.55756407854),\n (120646.58367929762, 486107.4539825946),\n (120653.63177241654, 486106.9806947992),\n (120658.16234661153, 486106.63926980837),\n (120664.93105615664, 486106.10542439454),\n (120671.8192466126, 486105.5397502568),\n (120678.46251254133, 486104.92881432245),\n (120683.05468505199, 486104.3662392544),\n (120689.70658339545, 486103.4113373837),\n (120697.63022968677, 486102.02209520293),\n (120704.74846380341, 486100.38072378177),\n (120714.24315622302, 486097.30355140124),\n (120715.2451666701, 486096.9044174595),\n (120723.45147424788, 486093.31371892645),\n (120732.28222387133, 486088.6586133905),\n (120740.35952745186, 486082.80002435134),\n (120748.12552168974, 486076.51945506287),\n (120755.90254720696, 486070.25248984597),\n (120758.44598231604, 486068.18800174043),\n (120765.97029150797, 486062.35922031576),\n (120766.10740704507, 486061.9539256975),\n (120771.35328840272, 486058.1275067256),\n (120771.6622853306, 486057.5829410404),\n (120779.51371836223, 486051.90747940855),\n (120781.08307534966, 486050.6194103428),\n (120787.64182643614, 486043.5809663657),\n (120795.54601051655, 486037.51803371136),\n (120799.09605710814, 486034.6266168856),\n (120807.2181716607, 486028.93552289205),\n (120814.23837423263, 486021.93244352983),\n (120821.87951739444, 486015.5092936344),\n (120829.52048137614, 486009.08624344267),\n (120834.6696941918, 486004.84159887466),\n (120835.66990702497, 486003.9152995505),\n (120843.31118411716, 485997.4926519497),\n (120850.96830834278, 485991.0884505823),\n (120859.42118581099, 485985.9878539164),\n (120859.71396217168, 485986.0893162251),\n (120866.12904685896, 485988.49435470556),\n (120872.45377411606, 485996.1725911783),\n (120878.78097036443, 486003.85268588545),\n (120884.44908241076, 486011.8846160293),\n (120887.29455986137, 486017.1679222352),\n (120889.26502545792, 486020.10506146733),\n (120890.71305579736, 486029.9038074119),\n (120916.43844268429, 486032.00808347174),\n (120924.31795833913, 486025.9339021357),\n (120932.21318051024, 486019.88821153867),\n (120940.10968762715, 486013.85196466517),\n (120940.54319612944, 486023.31299072853),\n (120932.82717530674, 486029.62090299063),\n (120931.13469976776, 486031.14840417803),\n (120931.09747557256, 486031.1688084951),\n (120923.52853601528, 486037.62249296077),\n (120916.74014785666, 486044.4403504709),\n (120916.15962428096, 486046.6473573908),\n (120910.21887037392, 486049.5585536605),\n (120902.79487579037, 486053.66466665384),\n (120901.83164741054, 486053.4334428719),\n (120892.5678053373, 486055.4616469492),\n (120884.60163510396, 486061.41309044993),\n (120876.7456201285, 486067.5454262669),\n (120868.88886935895, 486073.6771070321),\n (120861.03241456187, 486079.80944860505),\n (120853.17065126348, 486085.9356844367),\n (120845.29529242407, 486092.04589852656),\n (120837.4297445204, 486098.166453618),\n (120829.56706288873, 486104.28996187396),\n (120821.6948715022, 486110.40312932216),\n (120813.84214059442, 486116.54604176414),\n (120805.94883469454, 486122.62960592774),\n (120798.0893320718, 486128.7633437495)]"
     },
     "execution_count": 8,
     "metadata": {},
     "output_type": "execute_result"
    }
   ],
   "source": [
    "C = min(P, key=lambda p: (p[0], p[1]))\n",
    "C"
   ],
   "metadata": {
    "collapsed": false
   }
  },
  {
   "cell_type": "code",
   "execution_count": 9,
   "outputs": [],
   "source": [
    "# User ranking: Compare paths in P\n",
    "user_preference = utils_user.UserPreference(num_objectives=2, std_noise=0.1)"
   ],
   "metadata": {
    "collapsed": false
   }
  },
  {
   "cell_type": "code",
   "execution_count": 10,
   "outputs": [],
   "source": [
    "#TODO: This compiles for eternity. Idk why :'(\n",
    "# user_preference.rescale_on_input_domain(C)"
   ],
   "metadata": {
    "collapsed": false
   }
  },
  {
   "cell_type": "code",
   "execution_count": 11,
   "outputs": [],
   "source": [
    "#TODO: This gives an error from x=x[np.argsort(-utility)] from utils_user.py. So I used user_preference.get_preference (aka the next jupyter code cell, but idk if it's the correct method.\n",
    "#user_ranking = user_preference.ranking(C, add_noise=True)"
   ],
   "metadata": {
    "collapsed": false
   }
  },
  {
   "cell_type": "code",
   "execution_count": 12,
   "outputs": [
    {
     "name": "stdout",
     "output_type": "stream",
     "text": [
      "[5816.33936573 5816.6072482  5816.58258734 5816.56337878 5816.50851088\n",
      " 5816.72682005 5816.69805017 5816.73683684 5816.47181699 5816.49052616\n",
      " 5816.60378345 5816.51549633 5816.59487399 5816.30489073 5816.57950735\n",
      " 5816.50538176 5816.77003947 5816.48617236 5816.52968209 5816.58239763\n",
      " 5816.72665978 5816.29770078 5816.57482681 5816.55043948 5816.6539278\n",
      " 5816.70620801 5816.62290061 5816.61053756 5816.40377817 5816.66319192\n",
      " 5816.55924865 5816.52885955 5816.39879918 5816.4833986  5816.386183\n",
      " 5816.6039002  5816.5712521  5816.2865066  5816.48224076 5816.50211564\n",
      " 5816.35584837 5816.54730653 5816.62265249 5816.51595654 5816.54836534\n",
      " 5816.72539326 5816.43566629 5816.37191595 5816.55379066 5816.47136512\n",
      " 5816.68915277 5816.4012239  5816.50430511 5816.59970101 5816.49359338\n",
      " 5816.53171224 5816.65154896 5816.62195724 5816.64772174 5816.4215806\n",
      " 5816.51073673 5816.72053474 5816.76912461 5816.56720497 5816.52665913\n",
      " 5816.56828342 5816.58353105 5816.67492945 5816.5076461  5816.6372081\n",
      " 5816.61610657 5816.47792601 5816.57740141 5816.48170223 5816.4953182\n",
      " 5816.58796871 5816.37672961 5816.50758377 5816.5414714  5816.47126447\n",
      " 5816.40542823 5816.54816066 5816.40583014]\n"
     ]
    },
    {
     "name": "stderr",
     "output_type": "stream",
     "text": [
      "/Users/alisatodorova/Desktop/Thesis/Interactive-MOPPA/lmzintgraf_gp_pref_elicit/gp_utilities/utils_user.py:254: RuntimeWarning: overflow encountered in exp\n",
      "  y += 1. / (1 + np.exp(- x * (a-i) + (b+i)))\n"
     ]
    }
   ],
   "source": [
    "add_noise = True\n",
    "preference = user_preference.get_preference(C,add_noise=add_noise)\n",
    "print(preference)"
   ],
   "metadata": {
    "collapsed": false
   }
  },
  {
   "cell_type": "code",
   "execution_count": 13,
   "outputs": [],
   "source": [
    "# Add the comparisons to GP\n",
    "comparisons = dataset.DatasetPairwise(num_objectives=2)\n",
    "preference_copy = np.copy(preference)\n",
    "comparisons.add_ranked_preferences(preference_copy)\n",
    "gp.update(comparisons)"
   ],
   "metadata": {
    "collapsed": false
   }
  },
  {
   "cell_type": "code",
   "execution_count": 14,
   "outputs": [],
   "source": [
    "#TODO: This code is working but I don't know for what to use it...\n",
    "# params = utils_parameters.get_parameter_dict(query_type='ranking', utility_noise=0.01, num_objectives=2)\n",
    "# params['num queries'] = 10\n",
    "# params['seed'] = 123\n",
    "#\n",
    "# # Run the experiment\n",
    "# experiment = utils_experiment.Experiment(params)\n",
    "#\n",
    "# result = experiment.run(recalculate=False)\n",
    "#\n",
    "#  # -- true utility --\n",
    "#\n",
    "# # get the input domain\n",
    "# input_domain = result[1]\n",
    "# idx_order = np.argsort(-input_domain[:, 0])\n",
    "#\n",
    "# # get the true utility function\n",
    "# true_utility = result[2]\n",
    "# print(true_utility)"
   ],
   "metadata": {
    "collapsed": false
   }
  },
  {
   "cell_type": "code",
   "execution_count": 15,
   "outputs": [
    {
     "name": "stdout",
     "output_type": "stream",
     "text": [
      "[-0.95724841  0.09655672 -0.4048892   0.03389495  0.76182351 -0.26825858\n",
      " -0.15294788  0.41891858 -1.3470107  -0.63591126 -0.33571447  0.56281867\n",
      " -1.72477563 -1.44099637 -0.95837681 -0.3214679  -0.30798345 -0.44959541\n",
      "  0.42494426  1.04182353 -0.62498868  0.01115805  0.46857372 -0.38273271\n",
      "  0.50690071 -0.81855324 -1.17490486  0.86333277 -0.50581387 -1.2166946\n",
      " -0.19491264 -1.2479632   0.35274965 -0.03731987  0.80028     0.20634282\n",
      " -0.37899376 -0.06284924  0.37225561 -0.42057649 -1.22620193  0.56680111\n",
      " -0.09841915 -1.06731848 -0.59476126  0.62606403  0.1507684   0.85123235\n",
      "  0.43773078 -0.89365022  0.06632805 -0.7856956  -0.10570271 -0.18662513\n",
      "  0.19291645 -0.2650385  -0.16689673  0.536486   -0.93390565 -1.63903312\n",
      "  0.86638151  0.39543652  1.24332149 -0.28426692  0.25846068  1.03076848\n",
      " -0.18311858  0.1502338  -1.24741479 -0.67966185  0.48918709 -0.17686172\n",
      "  1.22762433 -0.00246232 -0.25710982 -0.01477593 -0.68104517  0.47566448\n",
      " -1.44042631 -0.35638735  0.59460335]\n"
     ]
    }
   ],
   "source": [
    "# Find the path the user likes best and has the maximum a posteriori (MAP) estimate\n",
    "gp_sample = gp.sample(p)\n",
    "print(gp_sample)"
   ],
   "metadata": {
    "collapsed": false
   }
  },
  {
   "cell_type": "code",
   "execution_count": 16,
   "outputs": [
    {
     "data": {
      "text/plain": "62"
     },
     "execution_count": 16,
     "metadata": {},
     "output_type": "execute_result"
    }
   ],
   "source": [
    "p_star_index = np.argmax(gp_sample)\n",
    "p_star_index"
   ],
   "metadata": {
    "collapsed": false
   }
  },
  {
   "cell_type": "code",
   "execution_count": 17,
   "outputs": [
    {
     "data": {
      "text/plain": "(120923.52853601528, 486037.62249296077)"
     },
     "execution_count": 17,
     "metadata": {},
     "output_type": "execute_result"
    }
   ],
   "source": [
    "p_star = p[p_star_index]\n",
    "p_star"
   ],
   "metadata": {
    "collapsed": false
   }
  },
  {
   "cell_type": "code",
   "execution_count": 18,
   "outputs": [
    {
     "data": {
      "text/plain": "array([[0.96437258, 0.23727299],\n       [0.63115621, 0.85134756],\n       [0.99846441, 0.0564509 ],\n       [0.11505206, 0.99825729],\n       [0.94036015, 0.3278353 ],\n       [0.        , 1.        ],\n       [0.91954989, 0.40080325],\n       [0.26688587, 0.95992014],\n       [1.        , 0.        ],\n       [0.76035816, 0.7034629 ],\n       [0.03835069, 0.9994191 ],\n       [0.07670137, 0.99883819],\n       [0.15301051, 0.988673  ],\n       [0.19096897, 0.97908871],\n       [0.22892742, 0.96950442],\n       [0.31241967, 0.94634856],\n       [0.35795346, 0.93277699],\n       [0.40348725, 0.91920542],\n       [0.44902104, 0.90563385],\n       [0.49455483, 0.89206227],\n       [0.54008863, 0.8784907 ],\n       [0.58562242, 0.86491913],\n       [0.67422352, 0.80205267],\n       [0.71729084, 0.75275779],\n       [0.78309983, 0.66022581],\n       [0.80584151, 0.61698872],\n       [0.82858319, 0.57375162],\n       [0.85132486, 0.53051453],\n       [0.87406654, 0.48727744],\n       [0.89680822, 0.44404035],\n       [0.92995502, 0.36431928],\n       [0.95236636, 0.28255415],\n       [0.97289553, 0.19206747],\n       [0.98141849, 0.14686195],\n       [0.98994145, 0.10165643],\n       [0.9992322 , 0.02822545]])"
     },
     "execution_count": 18,
     "metadata": {},
     "output_type": "execute_result"
    }
   ],
   "source": [
    "#TODO: No idea if this is correct. I'm not sure what ccs_size should be. So I put 10, as well as for min_size, in order to run it quicker. Otherwise, it takes too much time and gets stuck.\n",
    "input_domain = utils_ccs.get_pcs_grid(ccs_size=10, num_objectives=2, eucledian_dist=0.05, min_size=10, seed=123)\n",
    "#Set eucledian_dist smaller to run the code faster\n",
    "#Setting ccs_size and min_size to the same value is probably also a good idea.\n",
    "input_domain"
   ],
   "metadata": {
    "collapsed": false
   }
  },
  {
   "cell_type": "code",
   "execution_count": 19,
   "outputs": [],
   "source": [
    "# Initialise the acquisition function\n",
    "acq_fun = acquisition_function.DiscreteAcquirer(input_domain=input_domain, query_type='ranking', seed=123, acquisition_type='expected improvement')"
   ],
   "metadata": {
    "collapsed": false
   }
  },
  {
   "cell_type": "code",
   "execution_count": 20,
   "outputs": [],
   "source": [
    "#TODO: The next code cells are in a while-loop\n",
    "# while C:"
   ],
   "metadata": {
    "collapsed": false
   }
  },
  {
   "cell_type": "code",
   "execution_count": 21,
   "outputs": [],
   "source": [
    "expected_improvement = acquisition_function.get_expected_improvement(input_domain, gp, acq_fun.history)\n",
    "# acq_fun_start_points = acq_fun.get_next_point_EI(gp_sample, C)"
   ],
   "metadata": {
    "collapsed": false
   }
  },
  {
   "cell_type": "code",
   "execution_count": 22,
   "outputs": [
    {
     "data": {
      "text/plain": "0"
     },
     "execution_count": 22,
     "metadata": {},
     "output_type": "execute_result"
    }
   ],
   "source": [
    "t_index = np.argmax(expected_improvement)\n",
    "t_index"
   ],
   "metadata": {
    "collapsed": false
   }
  },
  {
   "cell_type": "code",
   "execution_count": 23,
   "outputs": [
    {
     "data": {
      "text/plain": "array([0.96437258, 0.23727299])"
     },
     "execution_count": 23,
     "metadata": {},
     "output_type": "execute_result"
    }
   ],
   "source": [
    "t = input_domain[t_index]\n",
    "t"
   ],
   "metadata": {
    "collapsed": false
   }
  },
  {
   "cell_type": "code",
   "execution_count": 24,
   "outputs": [
    {
     "data": {
      "text/plain": "[(120548.6120283842, 486088.19577846595),\n (120558.58272730978, 486088.5913559315),\n (120562.22249291666, 486088.4604878346),\n (120597.87366172913, 486118.3885286597),\n (120603.94807229919, 486112.8244804511),\n (120610.1211584085, 486110.4734641692),\n (120615.236697444, 486109.4981894336),\n (120622.18953041689, 486108.8516084536),\n (120627.6055477486, 486108.80491815176),\n (120637.3711853829, 486107.4803808584),\n (120638.32762784461, 486107.6578267999),\n (120644.82334925648, 486107.55756407854),\n (120646.58367929762, 486107.4539825946),\n (120653.63177241654, 486106.9806947992),\n (120658.16234661153, 486106.63926980837),\n (120664.93105615664, 486106.10542439454),\n (120671.8192466126, 486105.5397502568),\n (120678.46251254133, 486104.92881432245),\n (120683.05468505199, 486104.3662392544),\n (120689.70658339545, 486103.4113373837),\n (120697.63022968677, 486102.02209520293),\n (120704.74846380341, 486100.38072378177),\n (120714.24315622302, 486097.30355140124),\n (120715.2451666701, 486096.9044174595),\n (120723.45147424788, 486093.31371892645),\n (120732.28222387133, 486088.6586133905),\n (120740.35952745186, 486082.80002435134),\n (120748.12552168974, 486076.51945506287),\n (120755.90254720696, 486070.25248984597),\n (120758.44598231604, 486068.18800174043),\n (120765.97029150797, 486062.35922031576),\n (120766.10740704507, 486061.9539256975),\n (120771.35328840272, 486058.1275067256),\n (120771.6622853306, 486057.5829410404),\n (120779.51371836223, 486051.90747940855),\n (120781.08307534966, 486050.6194103428),\n (120787.64182643614, 486043.5809663657),\n (120795.54601051655, 486037.51803371136),\n (120799.09605710814, 486034.6266168856),\n (120807.2181716607, 486028.93552289205),\n (120814.23837423263, 486021.93244352983),\n (120821.87951739444, 486015.5092936344),\n (120829.52048137614, 486009.08624344267),\n (120834.6696941918, 486004.84159887466),\n (120835.66990702497, 486003.9152995505),\n (120843.31118411716, 485997.4926519497),\n (120850.96830834278, 485991.0884505823),\n (120859.42118581099, 485985.9878539164),\n (120859.71396217168, 485986.0893162251),\n (120866.12904685896, 485988.49435470556),\n (120872.45377411606, 485996.1725911783),\n (120878.78097036443, 486003.85268588545),\n (120884.44908241076, 486011.8846160293),\n (120887.29455986137, 486017.1679222352),\n (120889.26502545792, 486020.10506146733),\n (120890.71305579736, 486029.9038074119),\n (120916.43844268429, 486032.00808347174),\n (120924.31795833913, 486025.9339021357),\n (120932.21318051024, 486019.88821153867),\n (120940.10968762715, 486013.85196466517),\n (120940.54319612944, 486023.31299072853),\n (120932.82717530674, 486029.62090299063),\n (120931.13469976776, 486031.14840417803),\n (120931.09747557256, 486031.1688084951),\n (120923.52853601528, 486037.62249296077),\n (120916.74014785666, 486044.4403504709),\n (120916.15962428096, 486046.6473573908),\n (120910.21887037392, 486049.5585536605),\n (120902.79487579037, 486053.66466665384),\n (120901.83164741054, 486053.4334428719),\n (120892.5678053373, 486055.4616469492),\n (120884.60163510396, 486061.41309044993),\n (120876.7456201285, 486067.5454262669),\n (120868.88886935895, 486073.6771070321),\n (120861.03241456187, 486079.80944860505),\n (120853.17065126348, 486085.9356844367),\n (120845.29529242407, 486092.04589852656),\n (120837.4297445204, 486098.166453618),\n (120829.56706288873, 486104.28996187396),\n (120821.6948715022, 486110.40312932216),\n (120813.84214059442, 486116.54604176414),\n (120805.94883469454, 486122.62960592774),\n (120798.0893320718, 486128.7633437495)]"
     },
     "execution_count": 24,
     "metadata": {},
     "output_type": "execute_result"
    }
   ],
   "source": [
    "C"
   ],
   "metadata": {
    "collapsed": false
   }
  },
  {
   "cell_type": "code",
   "execution_count": 25,
   "outputs": [
    {
     "data": {
      "text/plain": "array([120548.61202838, 486088.19577847, 120558.58272731, 486088.59135593,\n       120562.22249292, 486088.46048783, 120597.87366173, 486118.38852866,\n       120603.9480723 , 486112.82448045, 120610.12115841, 486110.47346417,\n       120615.23669744, 486109.49818943, 120622.18953042, 486108.85160845,\n       120627.60554775, 486108.80491815, 120637.37118538, 486107.48038086,\n       120638.32762784, 486107.6578268 , 120644.82334926, 486107.55756408,\n       120646.5836793 , 486107.45398259, 120653.63177242, 486106.9806948 ,\n       120658.16234661, 486106.63926981, 120664.93105616, 486106.10542439,\n       120671.81924661, 486105.53975026, 120678.46251254, 486104.92881432,\n       120683.05468505, 486104.36623925, 120689.7065834 , 486103.41133738,\n       120697.63022969, 486102.0220952 , 120704.7484638 , 486100.38072378,\n       120714.24315622, 486097.3035514 , 120715.24516667, 486096.90441746,\n       120723.45147425, 486093.31371893, 120732.28222387, 486088.65861339,\n       120740.35952745, 486082.80002435, 120748.12552169, 486076.51945506,\n       120755.90254721, 486070.25248985, 120758.44598232, 486068.18800174,\n       120765.97029151, 486062.35922032, 120766.10740705, 486061.9539257 ,\n       120771.3532884 , 486058.12750673, 120771.66228533, 486057.58294104,\n       120779.51371836, 486051.90747941, 120781.08307535, 486050.61941034,\n       120787.64182644, 486043.58096637, 120795.54601052, 486037.51803371,\n       120799.09605711, 486034.62661689, 120807.21817166, 486028.93552289,\n       120814.23837423, 486021.93244353, 120821.87951739, 486015.50929363,\n       120829.52048138, 486009.08624344, 120834.66969419, 486004.84159887,\n       120835.66990702, 486003.91529955, 120843.31118412, 485997.49265195,\n       120850.96830834, 485991.08845058, 120859.42118581, 485985.98785392,\n       120859.71396217, 485986.08931623, 120866.12904686, 485988.49435471,\n       120872.45377412, 485996.17259118, 120878.78097036, 486003.85268589,\n       120884.44908241, 486011.88461603, 120887.29455986, 486017.16792224,\n       120889.26502546, 486020.10506147, 120890.7130558 , 486029.90380741,\n       120916.43844268, 486032.00808347, 120924.31795834, 486025.93390214,\n       120932.21318051, 486019.88821154, 120940.10968763, 486013.85196467,\n       120940.54319613, 486023.31299073, 120932.82717531, 486029.62090299,\n       120931.13469977, 486031.14840418, 120931.09747557, 486031.1688085 ,\n       120923.52853602, 486037.62249296, 120916.74014786, 486044.44035047,\n       120916.15962428, 486046.64735739, 120910.21887037, 486049.55855366,\n       120902.79487579, 486053.66466665, 120901.83164741, 486053.43344287,\n       120892.56780534, 486055.46164695, 120884.6016351 , 486061.41309045,\n       120876.74562013, 486067.54542627, 120868.88886936, 486073.67710703,\n       120861.03241456, 486079.80944861, 120853.17065126, 486085.93568444,\n       120845.29529242, 486092.04589853, 120837.42974452, 486098.16645362,\n       120829.56706289, 486104.28996187, 120821.6948715 , 486110.40312932,\n       120813.84214059, 486116.54604176, 120805.94883469, 486122.62960593,\n       120798.08933207, 486128.76334375])"
     },
     "execution_count": 25,
     "metadata": {},
     "output_type": "execute_result"
    }
   ],
   "source": [
    "# Remove t from C\n",
    "C = np.delete(C, np.where(np.all(C == t)))\n",
    "C"
   ],
   "metadata": {
    "collapsed": false
   }
  },
  {
   "cell_type": "code",
   "execution_count": 26,
   "outputs": [],
   "source": [
    "# Inner-loop\n",
    "# path = A(t, G, S, T)"
   ],
   "metadata": {
    "collapsed": false
   }
  },
  {
   "cell_type": "code",
   "execution_count": 27,
   "outputs": [],
   "source": [
    "#TODO: Line 15 of pseudocode is unclear to me how it should be in code. Also, which is correct:\n",
    "# If v^p improves in the target region\n",
    "# because you've identified a new value vector on the PCS. If you stop once the utility no longer improves, I think this can result in stopping prematurely. Specifically, imagine you have a current partial Pareto front of (10,0) and (0,10) the user model u((10,0)) is the current best. The target vector is (10,10)  and when you run DFS, you get one of the possible vectors in the target region. You get (1,9) out of the the call to DFS, and the u((1,9)) < u((10,0)) even after querying the user about it. Now here, you shouldn't stop, because the true best - (7,3) for example, is still possible to find.\n",
    "#you're just not going to improve on that with a newly found vector\n",
    "#So improving on the acquisition function by identifying a new point is impossible as\n",
    "# 1) you were searching at an optimistic estimate (target), so the actually found value will be worse than the target\n",
    "# 2) finding new points, and querying the user reduces uncertainty"
   ],
   "metadata": {
    "collapsed": false
   }
  },
  {
   "cell_type": "code",
   "execution_count": 28,
   "outputs": [],
   "source": [
    "P = P.append(p)"
   ],
   "metadata": {
    "collapsed": false
   }
  },
  {
   "cell_type": "code",
   "execution_count": 29,
   "outputs": [],
   "source": [
    "#TODO: More user ranking...\n",
    "#Compare p to p∗ and add comparison to the GP ▷User ranking, i.e., is the new path preferred to the current, maximum one?\n"
   ],
   "metadata": {
    "collapsed": false
   }
  },
  {
   "cell_type": "code",
   "execution_count": 30,
   "outputs": [],
   "source": [
    "# if u(p) > u(p∗) then\n",
    "# p∗ ← p\n",
    "# end if\n"
   ],
   "metadata": {
    "collapsed": false
   }
  },
  {
   "cell_type": "code",
   "execution_count": 31,
   "outputs": [],
   "source": [
    "# Compute new candidate targets based on v^p and add to C #p from inner-loop I assume\n"
   ],
   "metadata": {
    "collapsed": false
   }
  },
  {
   "cell_type": "code",
   "execution_count": 32,
   "outputs": [],
   "source": [
    "# end if\n",
    "# end while\n",
    "# return p∗, vp\n"
   ],
   "metadata": {
    "collapsed": false
   }
  }
 ],
 "metadata": {
  "kernelspec": {
   "display_name": "Python 3",
   "language": "python",
   "name": "python3"
  },
  "language_info": {
   "codemirror_mode": {
    "name": "ipython",
    "version": 2
   },
   "file_extension": ".py",
   "mimetype": "text/x-python",
   "name": "python",
   "nbconvert_exporter": "python",
   "pygments_lexer": "ipython2",
   "version": "2.7.6"
  }
 },
 "nbformat": 4,
 "nbformat_minor": 0
}
